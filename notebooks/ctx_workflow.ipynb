{
 "cells": [
  {
   "metadata": {},
   "cell_type": "markdown",
   "source": [
    "# Table of Contents\n",
    "\n",
    "[Notebook Workflow Step-by-Step for CTX](#notebook-workflow-step-by-step-for-ctx)\n",
    "\n",
    "[Setup variables and configs](#setup-variables-and-configs)\n",
    "\n",
    "1. [1. Download images](#1-download-images)\n",
    "    - [Preview left and right image](#preview-left-and-right-image)\n",
    "2. [2. First Step of CTX processing lev1eo](#2-first-step-of-ctx-processing-lev1eo)\n",
    "3. [3. Metadata init](#3-metadata-init)\n",
    "    - [3.1. Stereo Quality Report](#31-stereo-quality-report)\n",
    "    - [Downsample images if requested](#downsample-images-if-requested)\n",
    "4. [4. Bundle adjustment](#4-bundle-adjustment)\n",
    "5. [5. Stereo first run (steps 1-3 of stereo in ASP)](#5-stereo-first-run-steps-1-3-of-stereo-in-asp)\n",
    "6. [6. Stereo first run (step 4 of stereo in ASP)](#6-stereo-first-run-step-4-of-stereo-in-asp)\n",
    "7. [7. Produce low resolution DEM for map projection](#7-produce-low-resolution-dem-for-map-projection)\n",
    "8. [8. Make GoodPixelMap and Hillshade Previews](#8-make-goodpixelmap-and-hillshade-previews)\n",
    "    - [Good Pixel Map](#good-pixel-map)\n",
    "    - [Hillshade of low res DEM](#hillshade-of-low-res-dem)\n",
    "9. [9. Mapproject ctx against 100m DEM](#9-mapproject-ctx-against-100m-dem)\n",
    "10. [10. Calculate Better DEM using prior](#10-calculate-better-dem-using-prior)\n",
    "11. [11. PC alignment (Step 5)](#11-pc-alignment-step-5)\n",
    "    - [Good Pixel Preview](#good-pixel-preview)\n",
    "    - [Hillshade of higher res DEM](#hillshade-of-higher-res-dem)\n",
    "    - [Show pedr data](#show-pedr-data)\n",
    "12. [12. Start of PC align portion](#12-start-of-pc-align-portion)"
   ]
  },
  {
   "cell_type": "markdown",
   "metadata": {},
   "source": [
    "\n",
    "# Notebook Workflow Step-by-Step for CTX\n",
    "\n",
    "Now that we have run the Jupyter Notebook based workflows through the command line interface, we can look at each step that was run and describe what happened in more detail. Note that the function docstrings are also available to describe the parameters of a given step, and what that step does. Below is an export of all the codeblocks in the notebook workflow, additional markdown cells are included in the files but are not important to reproduce here. This workflow replicates the same workflow used by the asp_scripts project.\n",
    "\n",
    "First define all the parameters for the notebook for papermill. The notebook includes a cell metadata tag for papermill to allow these parameters to be defined at runtime. First we need the left and right image ids, the left image typically has the lower emission angle. ASAP will check the metadata of the images to ensure the correct order is provided. The config1 and config2 parameters are paths to stereo.default files the user has to configure the Ames Stereo Pipeline. The first config file is the only required parameter, config2 gives you to use higher quality parameters for the 2nd pass CTX DEM. The “dem_gsd” and “img_gsd” parameters control the number of pixels per pixel the final DEM and orthorectified images have. These default to 24 and 6 meters per pixel which works for generally any CTX image pair. Generally, most CTX images are captured at around 5.5 meters per pixel (GSD) so we pick 6 mpp as a reasonable default. By convention, the DEM post spacing should be at least 3X the image GSD. ASAP defaults to 4X the image GSD to be a bit more conservative, resulting in 24 meters per pixel. Output_path is typically left blank to default to the current working directory. The maxdisp parameter controls the maximum expected disparity (distance) between the intermediate CTX DEM and the reference topography. Leaving this as ‘None’ will allow ASAP to estimate the disparity for you. The downsample parameter allows you to downsample the imagery by a factor of the value to reduce processing times, a downsample of 4 will reduce the number of pixels by a factor of 4. The pedr_list variable points to the local copy of a file containing a list of all the paths to all of the MOLA PEDR data. By default this is set to None to use the ODE REST API to grab the necessary PEDR data, which is much faster anyways.\n"
   ]
  },
  {
   "metadata": {},
   "cell_type": "markdown",
   "source": "# Setup variables and configs"
  },
  {
   "metadata": {
    "ExecuteTime": {
     "end_time": "2025-05-25T22:00:50.124014Z",
     "start_time": "2025-05-25T22:00:49.835987Z"
    }
   },
   "cell_type": "code",
   "source": [
    "from src.asp_wrapper import CommonSteps\n",
    "%load_ext autoreload\n",
    "%autoreload 2"
   ],
   "outputs": [],
   "execution_count": 1
  },
  {
   "cell_type": "code",
   "metadata": {
    "ExecuteTime": {
     "end_time": "2025-05-25T22:00:51.880300Z",
     "start_time": "2025-05-25T22:00:51.391557Z"
    }
   },
   "source": [
    "left  = 'G03_019456_1646'\n",
    "right = 'G04_019601_1646'\n",
    "\n",
    "# left = 'P02_001981_1823'\n",
    "# right = 'P03_002258_1817'\n",
    "\n",
    "\n",
    "config1 = None\n",
    "config2 = None\n",
    "dem_gsd  = 24.0\n",
    "img_gsd  = 6.0\n",
    "output_path = None\n",
    "max_disp = None\n",
    "downsample = None\n",
    "refdem = None\n",
    "step_kwargs = {}\n",
    "# todo: add reference_dem and use to conditional pedr things"
   ],
   "outputs": [],
   "execution_count": 2
  },
  {
   "metadata": {},
   "cell_type": "markdown",
   "source": [
    "`if config2 == None:`\n",
    "`    config2 = config1`\n",
    "\n",
    "`!cat {config1}`\n",
    "\n",
    "`!cat {config2}`\n"
   ]
  },
  {
   "cell_type": "code",
   "metadata": {
    "pycharm": {
     "name": "#%%\n"
    },
    "ExecuteTime": {
     "end_time": "2025-05-25T22:00:59.113333Z",
     "start_time": "2025-05-25T22:00:56.629649Z"
    }
   },
   "source": [
    "from IPython.display import Image\n",
    "from pathlib import Path\n",
    "from src.ctx import CTX\n",
    "from src.moody import ODE\n",
    "import math\n",
    "import os\n",
    "\n",
    "default_output_dir = os.path.join(os.getcwd(), 'output')\n",
    "\n",
    "# Initialize the ODE and CTX classes\n",
    "ctx = CTX()\n",
    "ode = ODE(https=True)\n",
    "\n",
    "# Reassign left and right to the correct order\n",
    "left, right = ctx.get_ctx_order(left, right)\n",
    "\n",
    "output_path = os.path.join(default_output_dir, f'a_{left}_{right}/') if not output_path else output_path\n",
    "print(\"Output directory: \", output_path)\n",
    "\n",
    "if not os.path.exists(output_path):\n",
    "    os.makedirs(output_path)\n",
    "\n",
    "print(\"Left image PID:  %s\\nRight image PID: %s\" % (left, right))"
   ],
   "outputs": [
    {
     "name": "stdout",
     "output_type": "stream",
     "text": [
      "Output directory:  /mnt/c/Users/Ivan/Documents/PROJECTS/Python/pyameslib/notebooks/output/a_G03_019456_1646_G04_019601_1646/\n",
      "Left image PID:  G03_019456_1646\n",
      "Right image PID: G04_019601_1646\n"
     ]
    }
   ],
   "execution_count": 3
  },
  {
   "cell_type": "markdown",
   "metadata": {
    "pycharm": {
     "name": "#%% md\n"
    }
   },
   "source": "# 1. Download images\n"
  },
  {
   "cell_type": "markdown",
   "metadata": {},
   "source": [
    "Now we are getting to the heart of the notebook workflow. First use step-one to download our left and right images using the moody tool. At the end of the command you can see we are using standard bash to redirect stdout and stderr to two log files, the first a log just for this step, the second a cumulative log file for the whole job.\n",
    "\n",
    "`asap ctx step_1 {left} {right} 2>&1 | tee -i -a ./1_download.log ./full_log.log`\n"
   ]
  },
  {
   "cell_type": "code",
   "metadata": {
    "pycharm": {
     "name": "#%%\n"
    },
    "ExecuteTime": {
     "end_time": "2025-05-25T22:07:07.166542Z",
     "start_time": "2025-05-25T22:01:08.920028Z"
    }
   },
   "source": [
    "# ctx.step_1()\n",
    "# ctx.generate_ctx_pair_list(left, right)\n",
    "left_id = ctx.get_full_ctx_id(left)\n",
    "right_id = ctx.get_full_ctx_id(right)\n",
    "# download files\n",
    "left_path = ode.download_ctx_edr(left_id, output_path)\n",
    "right_path = ode.download_ctx_edr(right_id, output_path)"
   ],
   "outputs": [
    {
     "name": "stderr",
     "output_type": "stream",
     "text": [
      "Downloading G03_019456_1646_XN_15S096W.IMG: 35it [00:20,  1.67it/s]\n",
      "Downloading G04_019601_1646_XN_15S096W.IMG: 35it [05:29,  9.42s/it]\n"
     ]
    }
   ],
   "execution_count": 4
  },
  {
   "metadata": {},
   "cell_type": "markdown",
   "source": "## Preview left and right image"
  },
  {
   "metadata": {
    "ExecuteTime": {
     "end_time": "2025-05-26T03:31:25.118606Z",
     "start_time": "2025-05-26T03:31:08.554099Z"
    }
   },
   "cell_type": "code",
   "source": [
    "# left_tiff = os.path.join(os.path.dirname(left_path), f'{left_id}.tif')\n",
    "# right_tiff = os.path.join(os.path.dirname(right_path), f'{right_id}.tif')\n",
    "\n",
    "left_stem = os.path.join(os.path.dirname(left_path), f'{left_id}')\n",
    "right_stem = os.path.join(os.path.dirname(right_path), f'{right_id}')\n",
    "\n",
    "!gdal_translate -of GTiff {left_path} {left_stem}.tif\n",
    "!gdal_translate -of GTiff {right_path} {right_stem}.tif\n",
    "\n",
    "!gdal_translate -of PNG {left_path} {left_stem}.png\n",
    "!gdal_translate -of PNG {right_path} {right_stem}.png"
   ],
   "outputs": [
    {
     "name": "stdout",
     "output_type": "stream",
     "text": [
      "Input file size is 5056, 7168\r\n",
      "0...10...20...30...40...50...60...70...80...90...100 - done.\r\n",
      "Input file size is 5056, 7168\r\n",
      "0...10...20...30...40...50...60...70...80...90...100 - done.\r\n",
      "Input file size is 5056, 7168\r\n",
      "0...10...20...30...40...50...60...70...80...90...100 - done.\r\n",
      "Input file size is 5056, 7168\r\n",
      "0...10...20...30...40...50...60...70...80...90...100 - done.\r\n"
     ]
    }
   ],
   "execution_count": 7
  },
  {
   "metadata": {
    "ExecuteTime": {
     "end_time": "2025-05-25T22:08:23.802411Z",
     "start_time": "2025-05-25T22:08:16.962290Z"
    }
   },
   "cell_type": "code",
   "source": [
    "import matplotlib.pyplot as plt\n",
    "import rasterio\n",
    "\n",
    "fig, (ax1, ax2) = plt.subplots(1, 2, figsize=(10, 4))\n",
    "\n",
    "with rasterio.open(f'{left_stem}.tif', 'r') as src:\n",
    "    img = ax1.imshow(src.read(1), cmap='gray')\n",
    "    plt.colorbar(img, ax=ax1, label='Elevation')\n",
    "    ax1.set_title('left image')\n",
    "\n",
    "with rasterio.open(f'{right_stem}.tif', 'r') as src:\n",
    "    img = ax2.imshow(src.read(1), cmap='gray')\n",
    "    plt.colorbar(img, ax=ax2, label='Elevation')\n",
    "    ax2.set_title('right image')\n",
    "\n",
    "plt.show()"
   ],
   "outputs": [
    {
     "name": "stderr",
     "output_type": "stream",
     "text": [
      "/home/ivan/miniconda3/envs/asp/lib/python3.11/site-packages/rasterio/__init__.py:304: NotGeoreferencedWarning: Dataset has no geotransform, gcps, or rpcs. The identity matrix will be returned.\n",
      "  dataset = DatasetReader(path, driver=driver, sharing=sharing, **kwargs)\n"
     ]
    },
    {
     "data": {
      "text/plain": [
       "<Figure size 1000x400 with 4 Axes>"
      ],
      "image/png": "[encoded data removed]"
     },
     "metadata": {},
     "output_type": "display_data"
    }
   ],
   "execution_count": 6
  },
  {
   "cell_type": "markdown",
   "metadata": {
    "heading_collapsed": true,
    "pycharm": {
     "name": "#%% md\n"
    }
   },
   "source": "# 2. First Step of CTX processing lev1eo"
  },
  {
   "cell_type": "markdown",
   "metadata": {},
   "source": [
    "Now we replicate the preprocessing from the asp_scripts project/ames stereo pipeline using ISIS commands. This step will run these steps in the following order:\n",
    "\n",
    "1) `mroctx2isis`\n",
    "2) `spiceinit`\n",
    "3) `spicefit`\n",
    "4) `ctxcal`\n",
    "5) `ctxevenodd`\n",
    "\n",
    "`$ asap ctx step_2 {asap.kwarg_parse(step_kwargs, 'step_2')} 2>&1 | tee -i -a ./2_ctxedr2lev1eo.log ./full_log.log`\n",
    "\n",
    "Для корректной работы команд необходимо предзагрузить IsisData отсюда: https://astrogeology.usgs.gov/docs/how-to-guides/environment-setup-and-maintenance/isis-data-area/\n",
    "\n",
    "Т.к. работаем с миссей Mars Reconnaissance Orbiter, нужно ввести `downloadIsisData mro $ISISDATA`"
   ]
  },
  {
   "cell_type": "code",
   "metadata": {
    "collapsed": false,
    "jupyter": {
     "outputs_hidden": false
    },
    "pycharm": {
     "name": "#%%\n"
    },
    "ExecuteTime": {
     "end_time": "2025-05-24T07:54:22.559859Z",
     "start_time": "2025-05-24T07:54:11.187241Z"
    }
   },
   "source": [
    "from src.utils.common import par_do, rich_logger\n",
    "\n",
    "\n",
    "# @rich_logger\n",
    "# def step_2(ctx_wrapper: CTX, with_web=False):\n",
    "#     \"\"\"\n",
    "#     ISIS3 CTX preprocessing, replaces ctxedr2lev1eo.sh\n",
    "#\n",
    "#     :param with_web: if true attempt to use webservices for SPICE kernel data\n",
    "#     \"\"\"\n",
    "\n",
    "par_do(ctx.cs.mroctx2isis, [f'from={i}.IMG to={i}.cub' for i in [left_stem, right_stem]],)\n",
    "\n",
    "cubs = list(Path(output_path).glob('*.cub'))\n",
    "\n",
    "par_do(ctx.cs.spiceinit, [f'from={str(c)} web=yes' for c in cubs])\n",
    "\n",
    "par_do(ctx.cs.spicefit, [f'from={str(c)}' for c in cubs])\n",
    "#\n",
    "par_do(ctx.cs.ctxcal, [f'from={str(c)} to={str(c.parent)}/{c.stem}.lev1.cub' for c in cubs])\n",
    "for cub in cubs:\n",
    "    cub.unlink()\n",
    "\n",
    "\"\"\"\n",
    "**USER ERROR** The CTX image [/mnt/c/Users/Ivan/Documents/PROJECTS/Python/pyameslib/notebooks/output/a_N13_067270_0910_N12_067124_0910/N13_067270_0910_XN_89S005W.lev1.cub] has already been radiometrically calibrated.\n",
    "\"\"\"\n",
    "# lev1cubs = list(Path(output_path).glob('*.lev1.cub'))\n",
    "\n",
    "# par_do(ctx.cs.ctxevenodd, [f'from={str(c)} to={str(c.parent)}/{c.stem}.eo.cub' for c in lev1cubs])\n",
    "# for lc in lev1cubs:\n",
    "#     lc.unlink()\n"
   ],
   "outputs": [
    {
     "name": "stderr",
     "output_type": "stream",
     "text": [
      "INFO:sh.command:/home/ivan/miniconda3/envs/asp/bin/mroctx2isis from=/mnt/c/Users/Ivan/Documents/PROJECTS/Python/pyameslib/notebooks/output/a_N13_067270_0910_N12_067124_0910/N13_067270_0910_XN_89S005W.IMG to=/mnt/c/Users/Ivan/Documents/PROJECTS/Python/pyameslib/notebooks/output/a_N13_067270_0910_N12_067124_0910/N13_067270_0910_XN_89S005W.cub: process started\n",
      "INFO:sh.command:/home/ivan/miniconda3/envs/asp/bin/mroctx2isis from=/mnt/c/Users/Ivan/Documents/PROJECTS/Python/pyameslib/notebooks/output/a_N13_067270_0910_N12_067124_0910/N12_067124_0910_XN_89S006W.IMG to=/mnt/c/Users/Ivan/Documents/PROJECTS/Python/pyameslib/notebooks/output/a_N13_067270_0910_N12_067124_0910/N12_067124_0910_XN_89S006W.cub: process started\n",
      "INFO:sh.command:/home/ivan/miniconda3/envs/asp/bin/spiceinit from=/mnt/c/Users/Ivan/Documents/PROJECTS/Python/pyameslib/notebooks/output/a_N13_067270_0910_N12_067124_0910/N12_067124_0910_XN_89S006W.cub web=yes: process started\n",
      "INFO:sh.command:/home/ivan/miniconda3/envs/asp/bin/spiceinit from=/mnt/c/Users/Ivan/Documents/PROJECTS/Python/pyameslib/notebooks/output/a_N13_067270_0910_N12_067124_0910/N13_067270_0910_XN_89S005W.cub web=yes: process started\n",
      "INFO:sh.command:/home/ivan/miniconda3/envs/asp/bin/spicefit from=/mnt/c/Users/Ivan/Documents/PROJECTS/Python/pyameslib/notebooks/output/a_N13_067270_0910_N12_067124_0910/N12_067124_0910_XN_89S006W.cub: process started\n",
      "INFO:sh.command:/home/ivan/miniconda3/envs/asp/bin/spicefit from=/mnt/c/Users/Ivan/Documents/PROJECTS/Python/pyameslib/notebooks/output/a_N13_067270_0910_N12_067124_0910/N13_067270_0910_XN_89S005W.cub: process started\n",
      "INFO:sh.command:/home/ivan/miniconda3/envs/asp/bin/ctxcal from=/mnt/c/Users/Ivan/Documents/PROJECTS/Python/pyameslib/notebooks/output/a_N13_067270_0910_N12_067124_0910/N12_067124_0910_XN_89S006W.cub to=/mnt/c/Users/Ivan/Documents/PROJECTS/Python/pyameslib/notebooks/output/a_N13_067270_0910_N12_067124_0910/N12_067124_0910_XN_89S006W.lev1.cub: process started\n",
      "INFO:sh.command:/home/ivan/miniconda3/envs/asp/bin/ctxcal from=/mnt/c/Users/Ivan/Documents/PROJECTS/Python/pyameslib/notebooks/output/a_N13_067270_0910_N12_067124_0910/N13_067270_0910_XN_89S005W.cub to=/mnt/c/Users/Ivan/Documents/PROJECTS/Python/pyameslib/notebooks/output/a_N13_067270_0910_N12_067124_0910/N13_067270_0910_XN_89S005W.lev1.cub: process started\n"
     ]
    },
    {
     "data": {
      "text/plain": [
       "'\\n**USER ERROR** The CTX image [/mnt/c/Users/Ivan/Documents/PROJECTS/Python/pyameslib/notebooks/output/a_N13_067270_0910_N12_067124_0910/N13_067270_0910_XN_89S005W.lev1.cub] has already been radiometrically calibrated.\\n'"
      ]
     },
     "execution_count": 21,
     "metadata": {},
     "output_type": "execute_result"
    }
   ],
   "execution_count": 21
  },
  {
   "metadata": {
    "ExecuteTime": {
     "end_time": "2025-05-24T07:55:42.167196Z",
     "start_time": "2025-05-24T07:55:42.008284Z"
    }
   },
   "cell_type": "code",
   "source": "!ls {output_path}",
   "outputs": [
    {
     "name": "stdout",
     "output_type": "stream",
     "text": [
      "N12_067124_0910_XN_89S006W.IMG\t     N13_067270_0910_XN_89S005W.IMG\r\n",
      "N12_067124_0910_XN_89S006W.lev1.cub  N13_067270_0910_XN_89S005W.lev1.cub\r\n",
      "N12_067124_0910_XN_89S006W.tif\t     N13_067270_0910_XN_89S005W.tif\r\n"
     ]
    }
   ],
   "execution_count": 24
  },
  {
   "metadata": {},
   "cell_type": "markdown",
   "source": "![](../screenshots/qview_895005W.lev1.cub.png)"
  },
  {
   "metadata": {
    "ExecuteTime": {
     "end_time": "2025-05-24T07:36:55.925087Z",
     "start_time": "2025-05-24T07:36:55.873928Z"
    }
   },
   "cell_type": "code",
   "source": [
    "test = list(Path(output_path).glob('*.cub'))[0]\n",
    "str(test)"
   ],
   "outputs": [
    {
     "data": {
      "text/plain": [
       "'/mnt/c/Users/Ivan/Documents/PROJECTS/Python/pyameslib/notebooks/output/a_N13_067270_0910_N12_067124_0910/N12_067124_0910_XN_89S006W.cub'"
      ]
     },
     "execution_count": 17,
     "metadata": {},
     "output_type": "execute_result"
    }
   ],
   "execution_count": 17
  },
  {
   "cell_type": "markdown",
   "metadata": {},
   "source": [
    "# 3. Metadata init\n",
    "\n",
    "Now we create a number of metadata files used by the asp_scripts project to simplify future command calls. We also copy our preprocessed CTX cub files into a new working directory where all the stereo products will be computed. This new directory name uses both image IDs joined by an underscore ‘{left_id}_{right_id}’, for example: “B03_010644_1889_XN_08N001W_P02_001902_1889_XI_08N001W”.\n",
    "\n",
    "`$ asap ctx step_3`"
   ]
  },
  {
   "cell_type": "code",
   "execution_count": null,
   "metadata": {
    "collapsed": false,
    "jupyter": {
     "outputs_hidden": false
    },
    "pycharm": {
     "name": "#%%\n"
    }
   },
   "outputs": [],
   "source": [
    "\"\"\"\n",
    "        Create various processing files for future steps\n",
    "        # todo: deduplicate with hirise side\n",
    "        \"\"\"\n",
    "ctx.cs.create_stereopairs_lis()\n",
    "ctx.cs.create_stereodirs_lis()\n",
    "ctx.cs.create_stereodirs()\n",
    "ctx.cs.create_stereopair_lis()\n",
    "# copy the cub files into the both directory\n",
    "_, _, both = self.cs.parse_stereopairs()\n",
    "# sh.mv('-n', sh.glob('./*.cub'), f'./{both}/') # Rewrite with !"
   ]
  },
  {
   "cell_type": "markdown",
   "metadata": {
    "collapsed": false,
    "jupyter": {
     "outputs_hidden": false
    },
    "pycharm": {
     "name": "#%% md\n"
    }
   },
   "source": "## 3.1. Stereo Quality Report"
  },
  {
   "cell_type": "code",
   "execution_count": null,
   "metadata": {
    "collapsed": false,
    "jupyter": {
     "outputs_hidden": false
    },
    "pycharm": {
     "name": "#%%\n"
    }
   },
   "outputs": [],
   "source": [
    "qual_report = CommonSteps().get_stereo_quality_report(f'{left}_{right}/{left}.lev1eo.cub', f'{left}_{right}/{right}.lev1eo.cub')\n",
    "print(qual_report)"
   ]
  },
  {
   "cell_type": "markdown",
   "metadata": {
    "collapsed": false,
    "jupyter": {
     "outputs_hidden": false
    },
    "pycharm": {
     "name": "#%% md\n"
    }
   },
   "source": [
    "### Downsample images if requested"
   ]
  },
  {
   "cell_type": "code",
   "execution_count": null,
   "metadata": {
    "collapsed": false,
    "jupyter": {
     "outputs_hidden": false
    },
    "pycharm": {
     "name": "#%%\n"
    }
   },
   "outputs": [],
   "source": [
    "if downsample:\n",
    "    true_img_gsd_left = CommonSteps().get_image_gsd(f'{left}_{right}/{left}.lev1eo.cub')\n",
    "    true_img_gsd_right = CommonSteps().get_image_gsd(f'{left}_{right}/{right}.lev1eo.cub')\n",
    "    # take conservative approach, pick worst image GSD\n",
    "    res_gsd = max(true_img_gsd_left, true_img_gsd_right)\n",
    "    # this is because rescale in ISIS does not update GSD in metadata\n",
    "    CommonSteps().rescale_and_overwrite(factor=downsample)\n",
    "    img_gsd = math.ceil(res_gsd)*downsample\n",
    "    dem_gsd = 4*img_gsd\n",
    "    print('new img gsd', img_gsd)\n",
    "    print('new dem gsd', dem_gsd)"
   ]
  },
  {
   "cell_type": "markdown",
   "metadata": {},
   "source": [
    "# 4. Bundle adjustment\n",
    "\n",
    "We will use the parallel_bundle_adjust command from Ames Stereo Pipeline to refine the spacecraft position and orientation. The user can later re-run this step with more advanced options or GCPs if so desired.\n",
    "\n",
    "`!asap ctx step_4 {asap.kwarg_parse(step_kwargs, 'step_4')} 2>&1 | tee -i -a ./2_bundle_adjust.log ./full_log.log`"
   ]
  },
  {
   "cell_type": "code",
   "execution_count": null,
   "metadata": {
    "collapsed": false,
    "jupyter": {
     "outputs_hidden": false
    },
    "pycharm": {
     "name": "#%%\n"
    }
   },
   "outputs": [],
   "source": [
    "\"\"\"\n",
    "Bundle Adjust CTX\n",
    "\n",
    "Run bundle adjustment on the CTX map projected data\n",
    "\n",
    ":param vargs: variable length additional positional arguments to pass to bundle adjust\n",
    ":param bundle_adjust_prefix: prefix for bundle adjust output\n",
    ":param postfix: postfix for cub files to use\n",
    ":param camera_postfix: postfix for cameras\n",
    "\"\"\"\n",
    "# ctx.cs.bundle_adjust(*vargs, postfix=postfix, camera_postfix=camera_postfix,\n",
    "#                              bundle_adjust_prefix=bundle_adjust_prefix, **kwargs)"
   ]
  },
  {
   "cell_type": "markdown",
   "metadata": {},
   "source": [
    "# 5. Stereo first run (steps 1-3 of stereo in ASP)\n",
    "\n",
    "Now we can start making our first dem, we pass in the stereo config file to parallel_stereo. We split this into two parts (step 5 & 6) as we may want to run each part with slightly different parameters or give us a chance to inspect the outputs before the final step which can be long running. In the future Step 5 & & maybe reconfigured into the 4 sub-steps for further improvement to the workflow.\n",
    "\n",
    "`!asap ctx step_5 {config1} {asap.kwarg_parse(step_kwargs, 'step_5')} 2>&1 | tee -i -a ./3_lev1eo2dem.log ./full_log.log`"
   ]
  },
  {
   "cell_type": "code",
   "execution_count": null,
   "metadata": {
    "collapsed": false,
    "jupyter": {
     "outputs_hidden": false
    },
    "pycharm": {
     "name": "#%%\n"
    }
   },
   "outputs": [],
   "source": [
    "\"\"\"\n",
    "Parallel Stereo Part 1\n",
    "\n",
    "Run first part of parallel_stereo asp_ctx_lev1eo2dem.sh\n",
    "\n",
    ":param postfix: postfix for cub files to use\n",
    ":param camera_postfix: postfix for cameras  # TODO: use .adjusted_state.json?\n",
    "\"\"\"\n",
    "# return self.cs.stereo_asap(stereo_conf, postfix=postfix, camera_postfix=camera_postfix,\n",
    "#                            posargs=posargs, **{**self.cs.defaults_ps1, **kwargs})"
   ]
  },
  {
   "cell_type": "markdown",
   "metadata": {},
   "source": [
    "# 6. Stereo first run (step 4 of stereo in ASP)\n",
    "\n",
    "Run step 4, see step 5 above for more information.\n",
    "\n",
    "`!asap ctx step_6 {config1} {asap.kwarg_parse(step_kwargs, 'step_6')}  2>&1 | tee -i -a ./3_lev1eo2dem.log ./full_log.log`"
   ]
  },
  {
   "cell_type": "code",
   "execution_count": null,
   "metadata": {
    "collapsed": false,
    "jupyter": {
     "outputs_hidden": false
    },
    "pycharm": {
     "name": "#%%\n"
    }
   },
   "outputs": [],
   "source": [
    "\"\"\"\n",
    "Parallel Stereo Part 2\n",
    "\n",
    "Run second part of parallel_stereo, asp_ctx_lev1eo2dem.sh stereo is completed after this step\n",
    "\n",
    ":param postfix: postfix for cub files to use\n",
    ":param camera_postfix: postfix for cameras  # TODO: use .adjusted_state.json?\n",
    "\"\"\"\n",
    "# return self.cs.stereo_asap(stereo_conf, postfix=postfix, camera_postfix=camera_postfix,\n",
    "#                            posargs=posargs, **{**self.cs.defaults_ps2, **kwargs})"
   ]
  },
  {
   "cell_type": "markdown",
   "metadata": {},
   "source": [
    "# 7. Produce low resolution DEM for map projection\n",
    "\n",
    "We have made a point cloud, but it is preliminary so we will use it to make a 100 mpp DEM to map-project the CTX images to, to produce a better 2nd pass DEM.\n",
    "\n",
    "\n",
    "`! asap ctx step_7 --mpp 100 --just_ortho False --dem_hole_fill_len 50 {asap.kwarg_parse(step_kwargs, 'step_7')} 2>&1 | tee -i -a ./4_make_100m_dem.log ./full_log.log`"
   ]
  },
  {
   "cell_type": "code",
   "execution_count": 7,
   "metadata": {
    "ExecuteTime": {
     "end_time": "2025-05-18T22:24:50.830265Z",
     "start_time": "2025-05-18T22:24:50.722277Z"
    }
   },
   "outputs": [],
   "source": [
    "\"\"\"\n",
    "Produce preview DEMs/Orthos\n",
    "\n",
    "Produce dem from point cloud, by default 24mpp for ctx for max-disparity estimation\n",
    "\n",
    ":param run: folder for results\n",
    ":param just_ortho: set to True if you only want the ortho image, else make dem and error image\n",
    ":param mpp: resolution in meters per pixel\n",
    ":param postfix: postfix for cub files to use\n",
    "\"\"\"\n",
    "mpp = 100\n",
    "just_ortho = False\n",
    "dem_hole_fill_len = 50\n",
    "\n",
    "# return self.cs.point_to_dem(mpp, 'PC.tif',\n",
    "#                             just_ortho=just_ortho,\n",
    "#                             postfix=postfix,\n",
    "#                             run=run,\n",
    "#                             kind='ba',\n",
    "#                             use_proj=self.proj,\n",
    "#                             **kwargs)\n",
    "ctx.cs.point_to_dem(mpp, 'PC.tif', just_ortho=just_ortho)"
   ]
  },
  {
   "cell_type": "markdown",
   "metadata": {},
   "source": [
    "# 8. Make GoodPixelMap and Hillshade Previews\n",
    "We make image previews of the DEM using the next few steps to check for issues with our first pass DEM. First we will render out the good pixel map image and then the hillshade of the DEM to look for issues with the topography.\n",
    "\n",
    "`!asap ctx step-8`"
   ]
  },
  {
   "cell_type": "code",
   "execution_count": null,
   "metadata": {
    "collapsed": false,
    "jupyter": {
     "outputs_hidden": false
    },
    "pycharm": {
     "name": "#%%\n"
    }
   },
   "outputs": [],
   "source": [
    "\"\"\"\n",
    "hillshade First step in asp_ctx_step2_map2dem script\n",
    "\n",
    ":param output_folder:\n",
    ":param run:\n",
    "\"\"\"\n",
    "left, right, both = ctx.cs.parse_stereopairs()\n",
    "with cd(Path.cwd() / both / run / output_folder):\n",
    "    dem = next(Path.cwd().glob('*DEM.tif'))\n",
    "    self.cs.hillshade(dem.name, f'./{dem.stem}-hillshade.tif')"
   ]
  },
  {
   "cell_type": "markdown",
   "metadata": {
    "collapsed": false,
    "jupyter": {
     "outputs_hidden": false
    },
    "pycharm": {
     "name": "#%% md\n"
    }
   },
   "source": [
    "## Good Pixel Map "
   ]
  },
  {
   "cell_type": "code",
   "execution_count": null,
   "metadata": {
    "collapsed": false,
    "jupyter": {
     "outputs_hidden": false
    },
    "pycharm": {
     "name": "#%%\n"
    }
   },
   "outputs": [],
   "source": [
    "both = f'{left}_{right}'\n",
    "img = f'./{both}/results_ba/{both}_ba-GoodPixelMap.tif'\n",
    "out = img.replace('.tif', '.png')"
   ]
  },
  {
   "cell_type": "code",
   "execution_count": null,
   "metadata": {
    "collapsed": false,
    "jupyter": {
     "outputs_hidden": false
    },
    "pycharm": {
     "name": "#%%\n"
    }
   },
   "outputs": [],
   "source": [
    "!gdal_translate -of PNG -co worldfile=yes {img} {out}"
   ]
  },
  {
   "cell_type": "code",
   "execution_count": null,
   "metadata": {
    "collapsed": false,
    "jupyter": {
     "outputs_hidden": false
    },
    "pycharm": {
     "name": "#%%\n"
    }
   },
   "outputs": [],
   "source": [
    "Image(filename=out, width=800)"
   ]
  },
  {
   "cell_type": "markdown",
   "metadata": {
    "collapsed": false,
    "jupyter": {
     "outputs_hidden": false
    },
    "pycharm": {
     "name": "#%% md\n"
    }
   },
   "source": [
    "## Hillshade of low res DEM"
   ]
  },
  {
   "cell_type": "code",
   "execution_count": null,
   "metadata": {
    "collapsed": false,
    "jupyter": {
     "outputs_hidden": false
    },
    "pycharm": {
     "name": "#%%\n"
    }
   },
   "outputs": [],
   "source": [
    "both = f'{left}_{right}'\n",
    "img = f'./{both}/results_ba/dem/{both}_ba_100_0-DEM-hillshade.tif'\n",
    "out = img.replace('.tif', '.png')"
   ]
  },
  {
   "cell_type": "code",
   "execution_count": null,
   "metadata": {
    "collapsed": false,
    "jupyter": {
     "outputs_hidden": false
    },
    "pycharm": {
     "name": "#%%\n"
    }
   },
   "outputs": [],
   "source": [
    "!gdal_translate -of PNG -co worldfile=yes {img} {out}"
   ]
  },
  {
   "cell_type": "code",
   "execution_count": null,
   "metadata": {
    "collapsed": false,
    "jupyter": {
     "outputs_hidden": false
    },
    "pycharm": {
     "name": "#%%\n"
    }
   },
   "outputs": [],
   "source": [
    "Image(filename=out, width=800)"
   ]
  },
  {
   "cell_type": "markdown",
   "metadata": {
    "collapsed": false,
    "jupyter": {
     "outputs_hidden": false
    },
    "pycharm": {
     "name": "#%% md\n"
    }
   },
   "source": [
    "# 9. Mapproject ctx against 100m DEM\n",
    "\n",
    "`!asap ctx step_9 --mpp {img_gsd} {asap.kwarg_parse(step_kwargs, 'step_9')} 2>&1 | tee -i -a ./5_mapproject_to_100m_dem.log ./full_log.log`"
   ]
  },
  {
   "cell_type": "code",
   "execution_count": null,
   "metadata": {
    "collapsed": false,
    "jupyter": {
     "outputs_hidden": false
    },
    "pycharm": {
     "name": "#%%\n"
    }
   },
   "outputs": [],
   "source": [
    "\"\"\"\"\n",
    "Mapproject the left and right ctx images against the reference DEM\n",
    "\n",
    ":param run: name of run\n",
    ":param refdem: reference dem to map project using\n",
    ":param mpp: target GSD\n",
    ":param postfix: postfix for cub files to use\n",
    ":param camera_postfix: postfix for cameras to use\n",
    "\"\"\"\n",
    "left, right, both = ctx.cs.parse_stereopairs()\n",
    "if not refdem:\n",
    "    refdem = Path.cwd() / both / run / 'dem' / f'{both}_ba_100_0-DEM.tif'\n",
    "else:\n",
    "    refdem = Path(refdem).absolute()\n",
    "with cd(Path.cwd() / both):\n",
    "    # double check provided gsd\n",
    "    _left, _right = f'{left}{postfix}', f'{right}{postfix}'\n",
    "    _leftcam, _rightcam = f'{left}{camera_postfix}', f'{right}{camera_postfix}'\n",
    "    ctx.cs.check_mpp_against_true_gsd(_left, mpp)\n",
    "    ctx.cs.check_mpp_against_true_gsd(_right, mpp)\n",
    "    # map project both ctx images against the reference dem\n",
    "    # might need to do par do here\n",
    "    ctx.cs.mapproject(refdem, _left, _leftcam, f'{left}.ba.map.tif', '--mpp', mpp,\n",
    "                       '--bundle-adjust-prefix', 'adjust/ba')\n",
    "    ctx.cs.mapproject(refdem, _right, _rightcam, f'{right}.ba.map.tif', '--mpp', mpp,\n",
    "                       '--bundle-adjust-prefix', 'adjust/ba')"
   ]
  },
  {
   "cell_type": "markdown",
   "metadata": {
    "collapsed": false,
    "jupyter": {
     "outputs_hidden": false
    },
    "pycharm": {
     "name": "#%% md\n"
    }
   },
   "source": "# 10. Calculate Better DEM using prior"
  },
  {
   "metadata": {},
   "cell_type": "markdown",
   "source": [
    "`!asap ctx step_10 {config2} {asap.kwarg_parse(step_kwargs, 'step_10')} 2>&1 | tee -i -a ./6_next_level_dem.log ./full_log.log`\n",
    "\n",
    "\n",
    "\n"
   ]
  },
  {
   "metadata": {},
   "cell_type": "code",
   "outputs": [],
   "execution_count": null,
   "source": "pass"
  },
  {
   "metadata": {},
   "cell_type": "markdown",
   "source": [
    "`!asap ctx step_7 --mpp {dem_gsd} --run results_map_ba {asap.kwarg_parse(step_kwargs, 'step_7_2')}`\n",
    "\n"
   ]
  },
  {
   "metadata": {},
   "cell_type": "code",
   "outputs": [],
   "execution_count": null,
   "source": "pass"
  },
  {
   "metadata": {},
   "cell_type": "markdown",
   "source": "`!asap ctx step_8 --run results_map_ba`"
  },
  {
   "metadata": {},
   "cell_type": "code",
   "outputs": [],
   "execution_count": null,
   "source": "pass"
  },
  {
   "metadata": {},
   "cell_type": "markdown",
   "source": "`!asap ctx step_11 {config2} {asap.kwarg_parse(step_kwargs, 'step_11')} 2>&1 | tee -i -a ./6_next_level_dem.log ./full_log.log`"
  },
  {
   "cell_type": "markdown",
   "metadata": {
    "collapsed": false,
    "jupyter": {
     "outputs_hidden": false
    },
    "pycharm": {
     "name": "#%% md\n"
    }
   },
   "source": [
    "# 11. PC alignment (Step 5)\n",
    "there are two possibilities, either refdem is none (in which case get pedr data using moody) or we are given a dem\n",
    "currently this will always run even if refdem is provided, but below pc_align call will use refdem if it's not none\n",
    "\n",
    "`!asap ctx step_12 {refdem} 2>&1 | tee -i -a ./7_pedr_for_pc_align.log ./full_log.log`"
   ]
  },
  {
   "cell_type": "code",
   "execution_count": null,
   "metadata": {
    "collapsed": false,
    "jupyter": {
     "outputs_hidden": false
    },
    "pycharm": {
     "name": "#%%\n"
    }
   },
   "outputs": [],
   "source": "pass"
  },
  {
   "cell_type": "markdown",
   "metadata": {
    "pycharm": {
     "name": "#%% md\n"
    }
   },
   "source": [
    "## Good Pixel Preview"
   ]
  },
  {
   "cell_type": "code",
   "execution_count": null,
   "metadata": {
    "pycharm": {
     "name": "#%%\n"
    }
   },
   "outputs": [],
   "source": [
    "both = f'{left}_{right}'\n",
    "img = f'./{both}/results_map_ba/{both}_ba-GoodPixelMap.tif'\n",
    "out = img.replace('.tif', '.png')"
   ]
  },
  {
   "cell_type": "code",
   "execution_count": null,
   "metadata": {
    "pycharm": {
     "name": "#%%\n"
    }
   },
   "outputs": [],
   "source": [
    "!gdal_translate -of PNG -co worldfile=yes {img} {out}"
   ]
  },
  {
   "cell_type": "code",
   "execution_count": null,
   "metadata": {
    "pycharm": {
     "name": "#%%\n"
    }
   },
   "outputs": [],
   "source": [
    "Image(filename=out, width=800)"
   ]
  },
  {
   "cell_type": "markdown",
   "metadata": {
    "pycharm": {
     "name": "#%% md\n"
    }
   },
   "source": [
    "## Hillshade of higher res DEM"
   ]
  },
  {
   "cell_type": "code",
   "execution_count": null,
   "metadata": {
    "pycharm": {
     "name": "#%%\n"
    }
   },
   "outputs": [],
   "source": [
    "both = f'{left}_{right}'\n",
    "img = './' + str(next(Path('../src/pyameslib/').glob(f'./{both}/results_map_ba/dem/{both}_ba_*-DEM-hillshade.tif')))\n",
    "out = img.replace('.tif', '.png')"
   ]
  },
  {
   "cell_type": "code",
   "execution_count": null,
   "metadata": {
    "pycharm": {
     "name": "#%%\n"
    }
   },
   "outputs": [],
   "source": [
    "!gdal_translate -of PNG -co worldfile=yes {img} {out}"
   ]
  },
  {
   "cell_type": "code",
   "execution_count": null,
   "metadata": {
    "pycharm": {
     "name": "#%%\n"
    }
   },
   "outputs": [],
   "source": [
    "Image(filename=out, width=600)"
   ]
  },
  {
   "cell_type": "markdown",
   "metadata": {
    "collapsed": false,
    "jupyter": {
     "outputs_hidden": false
    },
    "pycharm": {
     "name": "#%% md\n"
    }
   },
   "source": "## Show pedr data"
  },
  {
   "cell_type": "code",
   "execution_count": null,
   "metadata": {
    "pycharm": {
     "name": "#%%\n"
    }
   },
   "outputs": [],
   "source": [
    "!cat ./{left}_{right}/PEDR2TAB.PRM"
   ]
  },
  {
   "cell_type": "code",
   "execution_count": null,
   "metadata": {
    "pycharm": {
     "name": "#%%\n"
    }
   },
   "outputs": [],
   "source": [
    "!cat ./{left}_{right}/{left}_{right}_pedr4align.csv | wc -l "
   ]
  },
  {
   "cell_type": "markdown",
   "metadata": {
    "collapsed": false,
    "jupyter": {
     "outputs_hidden": false
    },
    "pycharm": {
     "name": "#%% md\n"
    }
   },
   "source": "# 12. Start of PC align portion"
  },
  {
   "metadata": {},
   "cell_type": "markdown",
   "source": [
    "`!asap ctx step_13 --maxd {max_disp} --refdem {refdem} {asap.kwarg_parse(step_kwargs, 'step_13')} 2>&1 | tee -i -a ./8_pc_align.log ./full_log.log`\n",
    "\n",
    "`!asap ctx step_14 --mpp {dem_gsd} {asap.kwarg_parse(step_kwargs, 'step_14')} 2>&1 | tee -i -a ./9_dems_orthos.log ./full_log.log`\n",
    "\n",
    "`!asap ctx step_15 {asap.kwarg_parse(step_kwargs, 'step_15')} 2>&1 | tee -i -a ./10_geoid_adjustment.log  ./full_log.log`\n",
    "\n",
    "`!asap ctx step_8 --run results_map_ba --output_folder dem_align 2>&1 | tee -i -a ./11_hillshade.log ./full_log.log`"
   ]
  },
  {
   "cell_type": "code",
   "execution_count": null,
   "metadata": {
    "collapsed": false,
    "jupyter": {
     "outputs_hidden": false
    },
    "pycharm": {
     "name": "#%%\n"
    }
   },
   "outputs": [],
   "source": [
    "img = './' + str(next(Path('../src/pyameslib/').glob('./*/results_map_ba/dem_align/*-hillshade.tif')))\n",
    "out = img.replace('.tif', '.png')"
   ]
  },
  {
   "cell_type": "code",
   "execution_count": null,
   "metadata": {
    "collapsed": false,
    "jupyter": {
     "outputs_hidden": false
    },
    "pycharm": {
     "name": "#%%\n"
    }
   },
   "outputs": [],
   "source": [
    "!gdal_translate -of PNG -co worldfile=yes {img} {out}"
   ]
  },
  {
   "cell_type": "code",
   "execution_count": null,
   "metadata": {
    "collapsed": false,
    "jupyter": {
     "outputs_hidden": false
    },
    "pycharm": {
     "name": "#%%\n"
    }
   },
   "outputs": [],
   "source": [
    "Image(filename=out, width=800)"
   ]
  },
  {
   "metadata": {},
   "cell_type": "markdown",
   "source": "`!asap ctx step_14 --mpp {img_gsd} --just_ortho True  2>&1 | tee -i -a ./12_img_full_ortho.log ./full_log.log`\n"
  }
 ],
 "metadata": {
  "celltoolbar": "Tags",
  "kernelspec": {
   "display_name": "Python 3 (ipykernel)",
   "language": "python",
   "name": "python3"
  },
  "language_info": {
   "codemirror_mode": {
    "name": "ipython",
    "version": 3
   },
   "file_extension": ".py",
   "mimetype": "text/x-python",
   "name": "python",
   "nbconvert_exporter": "python",
   "pygments_lexer": "ipython3",
   "version": "3.11.6"
  }
 },
 "nbformat": 4,
 "nbformat_minor": 4
}
