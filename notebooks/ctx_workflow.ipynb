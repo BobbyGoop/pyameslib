{
 "cells": [
  {
   "metadata": {},
   "cell_type": "markdown",
   "source": [
    "# Table of Contents\n",
    "\n",
    "[Notebook Workflow Step-by-Step for CTX](#notebook-workflow-step-by-step-for-ctx)\n",
    "\n",
    "[Setup variables and configs](#setup-variables-and-configs)\n",
    "\n",
    "1. [1. Download images](#1-download-images)\n",
    "    - [Preview left and right image](#preview-left-and-right-image)\n",
    "2. [2. First Step of CTX processing lev1eo](#2-first-step-of-ctx-processing-lev1eo)\n",
    "3. [3. Metadata init](#3-metadata-init)\n",
    "    - [3.1. Stereo Quality Report](#31-stereo-quality-report)\n",
    "    - [Downsample images if requested](#downsample-images-if-requested)\n",
    "4. [4. Bundle adjustment](#4-bundle-adjustment)\n",
    "5. [5. Stereo first run (steps 1-3 of stereo in ASP)](#5-stereo-first-run-steps-1-3-of-stereo-in-asp)\n",
    "6. [6. Stereo first run (step 4 of stereo in ASP)](#6-stereo-first-run-step-4-of-stereo-in-asp)\n",
    "7. [7. Produce low resolution DEM for map projection](#7-produce-low-resolution-dem-for-map-projection)\n",
    "8. [8. Make GoodPixelMap and Hillshade Previews](#8-make-goodpixelmap-and-hillshade-previews)\n",
    "    - [Good Pixel Map](#good-pixel-map)\n",
    "    - [Hillshade of low res DEM](#hillshade-of-low-res-dem)\n",
    "9. [9. Mapproject ctx against 100m DEM](#9-mapproject-ctx-against-100m-dem)\n",
    "10. [10. Calculate Better DEM using prior](#10-calculate-better-dem-using-prior)\n",
    "11. [11. PC alignment (Step 5)](#11-pc-alignment-step-5)\n",
    "    - [Good Pixel Preview](#good-pixel-preview)\n",
    "    - [Hillshade of higher res DEM](#hillshade-of-higher-res-dem)\n",
    "    - [Show pedr data](#show-pedr-data)\n",
    "12. [12. Start of PC align portion](#12-start-of-pc-align-portion)"
   ]
  },
  {
   "cell_type": "markdown",
   "metadata": {},
   "source": [
    "\n",
    "# Notebook Workflow Step-by-Step for CTX\n",
    "\n",
    "Now that we have run the Jupyter Notebook based workflows through the command line interface, we can look at each step that was run and describe what happened in more detail. Note that the function docstrings are also available to describe the parameters of a given step, and what that step does. Below is an export of all the codeblocks in the notebook workflow, additional markdown cells are included in the files but are not important to reproduce here. This workflow replicates the same workflow used by the asp_scripts project.\n",
    "\n",
    "First define all the parameters for the notebook for papermill. The notebook includes a cell metadata tag for papermill to allow these parameters to be defined at runtime. First we need the left and right image ids, the left image typically has the lower emission angle. ASAP will check the metadata of the images to ensure the correct order is provided. The config1 and config2 parameters are paths to stereo.default files the user has to configure the Ames Stereo Pipeline. The first config file is the only required parameter, config2 gives you to use higher quality parameters for the 2nd pass CTX DEM. The “dem_gsd” and “img_gsd” parameters control the number of pixels per pixel the final DEM and orthorectified images have. These default to 24 and 6 meters per pixel which works for generally any CTX image pair.\n",
    "\n",
    "Generally, most CTX images are captured at around 5.5 meters per pixel (GSD) so we pick 6 mpp as a reasonable default. By convention, the DEM post spacing should be at least 3X the image GSD. ASAP defaults to 4X the image GSD to be a bit more conservative, resulting in 24 meters per pixel. Output_path is typically left blank to default to the current working directory. The maxdisp parameter controls the maximum expected disparity (distance) between the intermediate CTX DEM and the reference topography. Leaving this as ‘None’ will allow ASAP to estimate the disparity for you. The downsample parameter allows you to downsample the imagery by a factor of the value to reduce processing times, a downsample of 4 will reduce the number of pixels by a factor of 4. The pedr_list variable points to the local copy of a file containing a list of all the paths to all of the MOLA PEDR data. By default this is set to None to use the ODE REST API to grab the necessary PEDR data, which is much faster anyways.\n"
   ]
  },
  {
   "metadata": {},
   "cell_type": "markdown",
   "source": "# Setup variables and configs"
  },
  {
   "metadata": {
    "ExecuteTime": {
     "end_time": "2025-05-29T10:46:20.092438Z",
     "start_time": "2025-05-29T10:46:20.037093Z"
    }
   },
   "cell_type": "code",
   "source": [
    "from src.asp_wrapper import AmesPipelineWrapper\n",
    "%load_ext autoreload\n",
    "%autoreload 2"
   ],
   "outputs": [
    {
     "name": "stdout",
     "output_type": "stream",
     "text": [
      "The autoreload extension is already loaded. To reload it, use:\n",
      "  %reload_ext autoreload\n"
     ]
    }
   ],
   "execution_count": 51
  },
  {
   "cell_type": "code",
   "metadata": {
    "ExecuteTime": {
     "end_time": "2025-05-29T10:46:20.149831Z",
     "start_time": "2025-05-29T10:46:20.096971Z"
    }
   },
   "source": [
    "left  = 'K14_059010_0916'\n",
    "right = 'U15_076642_0916'\n",
    "\n",
    "# left = 'P02_001981_1823'\n",
    "# right = 'P03_002258_1817'\n",
    "\n",
    "\n",
    "config1 = None\n",
    "config2 = None\n",
    "dem_gsd  = 24.0\n",
    "img_gsd  = 6.0\n",
    "output_path = None\n",
    "max_disp = None\n",
    "downsample = None\n",
    "refdem = None\n",
    "step_kwargs = {}\n",
    "# todo: add reference_dem and use to conditional pedr things"
   ],
   "outputs": [],
   "execution_count": 52
  },
  {
   "metadata": {},
   "cell_type": "markdown",
   "source": [
    "`if config2 == None:`\n",
    "`    config2 = config1`\n",
    "\n",
    "`!cat {config1}`\n",
    "\n",
    "`!cat {config2}`\n"
   ]
  },
  {
   "cell_type": "code",
   "metadata": {
    "pycharm": {
     "name": "#%%\n"
    },
    "ExecuteTime": {
     "end_time": "2025-05-29T10:46:21.720935Z",
     "start_time": "2025-05-29T10:46:20.156575Z"
    }
   },
   "source": [
    "from IPython.display import Image\n",
    "from pathlib import Path\n",
    "from src.ctx import CTX\n",
    "from src.moody import ODE\n",
    "import math\n",
    "import os\n",
    "\n",
    "default_output_dir = os.path.join(os.getcwd(), 'output')\n",
    "\n",
    "# Initialize the ODE and CTX classes\n",
    "ctx = CTX()\n",
    "ode = ODE(https=True)\n",
    "asp = AmesPipelineWrapper()\n",
    "\n",
    "# Reassign left and right to the correct order\n",
    "left, right = ctx.get_ctx_order(left, right)\n",
    "\n",
    "output_path = os.path.join(default_output_dir, f'a_{left}_{right}/') if not output_path else output_path\n",
    "print(\"Output directory: \", output_path)\n",
    "\n",
    "if not os.path.exists(output_path):\n",
    "    os.makedirs(output_path)\n",
    "\n",
    "print(\"Left image PID:  %s\\nRight image PID: %s\" % (left, right))"
   ],
   "outputs": [
    {
     "name": "stdout",
     "output_type": "stream",
     "text": [
      "Output directory:  /mnt/c/Users/Ivan/Documents/PROJECTS/Python/pyameslib/notebooks/output/a_K14_059010_0916_U15_076642_0916/\n",
      "Left image PID:  K14_059010_0916\n",
      "Right image PID: U15_076642_0916\n"
     ]
    }
   ],
   "execution_count": 53
  },
  {
   "cell_type": "markdown",
   "metadata": {
    "pycharm": {
     "name": "#%% md\n"
    }
   },
   "source": "# 1. Download images\n"
  },
  {
   "cell_type": "markdown",
   "metadata": {},
   "source": [
    "Now we are getting to the heart of the notebook workflow. First use step-one to download our left and right images using the moody tool. At the end of the command you can see we are using standard bash to redirect stdout and stderr to two log files, the first a log just for this step, the second a cumulative log file for the whole job.\n",
    "\n",
    "`asap ctx step_1 {left} {right} 2>&1 | tee -i -a ./1_download.log ./full_log.log`\n"
   ]
  },
  {
   "cell_type": "code",
   "metadata": {
    "pycharm": {
     "name": "#%%\n"
    },
    "ExecuteTime": {
     "end_time": "2025-05-29T10:46:24.869959Z",
     "start_time": "2025-05-29T10:46:21.730260Z"
    }
   },
   "source": [
    "# ctx.step_1()\n",
    "# ctx.generate_ctx_pair_list(left, right)\n",
    "left_id = ctx.get_full_ctx_id(left)\n",
    "right_id = ctx.get_full_ctx_id(right)\n",
    "# download files\n",
    "left_path = ode.download_ctx_edr(left_id, output_path)\n",
    "right_path = ode.download_ctx_edr(right_id, output_path)\n",
    "\n",
    "left_stem = os.path.join(os.path.dirname(left_path), f'{left_id}')\n",
    "right_stem = os.path.join(os.path.dirname(right_path), f'{right_id}')\n",
    "\n",
    "asp.setup_pair_info(output_path, left_stem, right_stem)"
   ],
   "outputs": [
    {
     "name": "stdout",
     "output_type": "stream",
     "text": [
      "File K14_059010_0916_XN_88S273W.IMG already exists, skipping download.\n",
      "File U15_076642_0916_XN_88S273W.IMG already exists, skipping download.\n"
     ]
    }
   ],
   "execution_count": 54
  },
  {
   "metadata": {},
   "cell_type": "markdown",
   "source": "## Preview left and right image"
  },
  {
   "metadata": {
    "ExecuteTime": {
     "end_time": "2025-05-29T10:46:40.101176Z",
     "start_time": "2025-05-29T10:46:24.876637Z"
    }
   },
   "cell_type": "code",
   "source": [
    "!gdal_translate -of GTiff {left_path} {left_stem}.tif\n",
    "!gdal_translate -of GTiff {right_path} {right_stem}.tif\n",
    "\n",
    "!gdal_translate -of PNG {left_path} {left_stem}.png\n",
    "!gdal_translate -of PNG {right_path} {right_stem}.png"
   ],
   "outputs": [
    {
     "name": "stdout",
     "output_type": "stream",
     "text": [
      "Input file size is 5056, 7168\r\n",
      "0...10...20...30...40...50...60...70...80...90...100 - done.\r\n",
      "Input file size is 5056, 7168\r\n",
      "0...10...20...30...40...50...60...70...80...90...100 - done.\r\n",
      "Input file size is 5056, 7168\r\n",
      "0...10...20...30...40...50...60...70...80...90...100 - done.\r\n",
      "Input file size is 5056, 7168\r\n",
      "0...10...20...30...40...50...60...70...80...90...100 - done.\r\n"
     ]
    }
   ],
   "execution_count": 55
  },
  {
   "metadata": {
    "ExecuteTime": {
     "end_time": "2025-05-29T10:46:50.138428Z",
     "start_time": "2025-05-29T10:46:40.108370Z"
    }
   },
   "cell_type": "code",
   "source": [
    "import matplotlib.pyplot as plt\n",
    "import rasterio\n",
    "\n",
    "fig, (ax1, ax2) = plt.subplots(1, 2, figsize=(12, 6))\n",
    "fig.tight_layout()\n",
    "\n",
    "with rasterio.open(f'{left_stem}.tif', 'r') as src:\n",
    "    img = ax1.imshow(src.read(1), cmap='gray')\n",
    "    ax1.set_xticks([])  # Remove x-axis ticks\n",
    "    ax1.set_yticks([])\n",
    "    ax1.set_title('Left image')\n",
    "\n",
    "with rasterio.open(f'{right_stem}.tif', 'r') as src:\n",
    "    img = ax2.imshow(src.read(1), cmap='gray')\n",
    "    ax2.set_xticks([])  # Remove x-axis ticks\n",
    "    ax2.set_yticks([])\n",
    "    ax2.set_title('Right image')\n",
    "\n",
    "plt.show()"
   ],
   "outputs": [
    {
     "data": {
      "text/plain": [
       "<Figure size 1200x600 with 2 Axes>"
      ],
      "image/png": "[encoded data removed]"
     },
     "metadata": {},
     "output_type": "display_data"
    }
   ],
   "execution_count": 56
  },
  {
   "cell_type": "markdown",
   "metadata": {
    "heading_collapsed": true,
    "pycharm": {
     "name": "#%% md\n"
    }
   },
   "source": "# 2. First Step of CTX processing lev1eo"
  },
  {
   "cell_type": "markdown",
   "metadata": {},
   "source": [
    "Now we replicate the preprocessing from the asp_scripts project/ames stereo pipeline using ISIS commands. This step will run these steps in the following order:\n",
    "\n",
    "1) `mroctx2isis`\n",
    "2) `spiceinit`\n",
    "3) `spicefit`\n",
    "4) `ctxcal`\n",
    "5) `ctxevenodd`\n",
    "\n",
    "`$ asap ctx step_2 {asap.kwarg_parse(step_kwargs, 'step_2')} 2>&1 | tee -i -a ./2_ctxedr2lev1eo.log ./full_log.log`\n",
    "\n",
    "Для корректной работы команд необходимо предзагрузить IsisData отсюда: https://astrogeology.usgs.gov/docs/how-to-guides/environment-setup-and-maintenance/isis-data-area/\n",
    "\n",
    "Т.к. работаем с миссей Mars Reconnaissance Orbiter, нужно ввести `downloadIsisData mro $ISISDATA`"
   ]
  },
  {
   "cell_type": "code",
   "metadata": {
    "collapsed": false,
    "jupyter": {
     "outputs_hidden": false
    },
    "pycharm": {
     "name": "#%%\n"
    },
    "ExecuteTime": {
     "end_time": "2025-05-29T10:47:05.819300Z",
     "start_time": "2025-05-29T10:46:50.148903Z"
    }
   },
   "source": [
    "from src.utils.common import run_parallel, rich_logger\n",
    "\n",
    "\n",
    "# @rich_logger\n",
    "# def step_2(ctx_wrapper: CTX, with_web=False):\n",
    "#     \"\"\"\n",
    "#     ISIS3 CTX preprocessing, replaces ctxedr2lev1eo.sh\n",
    "#\n",
    "#     :param with_web: if true attempt to use webservices for SPICE kernel data\n",
    "#     \"\"\"\n",
    "files = [output_path + left_id, output_path + right_id]\n",
    "run_parallel(asp.mroctx2isis, [f'from={i}.IMG to={i}.cub' for i in files], )\n",
    "\n",
    "run_parallel(asp.spiceinit, [f'from={i}.cub web=yes' for i in files])\n",
    "\n",
    "run_parallel(asp.spicefit, [f'from={i}.cub' for i in files])\n",
    "#\n",
    "run_parallel(asp.ctxcal, [f'from={i}.cub to={i}.lev1.cub' for i in files])\n",
    "\n",
    "# for cub in cubs:\n",
    "#     cub.unlink()\n",
    "\n",
    "\"\"\"\n",
    "**USER ERROR** The CTX image [/mnt/c/Users/Ivan/Documents/PROJECTS/Python/pyameslib/notebooks/output/a_N13_067270_0910_N12_067124_0910/N13_067270_0910_XN_89S005W.lev1.cub] has already been radiometrically calibrated.\n",
    "\"\"\"\n",
    "# lev1cubs = list(Path(output_path).glob('*.lev1.cub'))\n",
    "\n",
    "run_parallel(asp.ctxevenodd, [f'from={i}.lev1.cub to={i}.lev1.eo.cub' for i in files])\n",
    "# for lc in lev1cubs:\n",
    "#     lc.unlink()\n"
   ],
   "outputs": [
    {
     "name": "stderr",
     "output_type": "stream",
     "text": [
      "INFO:sh.command:/home/ivan/miniconda3/envs/asp/bin/mroctx2isis from=/mnt/c/Users/Ivan/Documents/PROJECTS/Python/pyameslib/notebooks/output/a_K14_059010_0916_U15_076642_0916/K14_059010_0916_XN_88S273W.IMG to=/mnt/c/Users/Ivan/Documents/PROJECTS/Python/pyameslib/notebooks/output/a_K14_059010_0916_U15_076642_0916/K14_059010_0916_XN_88S273W.cub: process started\n",
      "INFO:sh.command:/home/ivan/miniconda3/envs/asp/bin/mroctx2isis from=/mnt/c/Users/Ivan/Documents/PROJECTS/Python/pyameslib/notebooks/output/a_K14_059010_0916_U15_076642_0916/U15_076642_0916_XN_88S273W.IMG to=/mnt/c/Users/Ivan/Documents/PROJECTS/Python/pyameslib/notebooks/output/a_K14_059010_0916_U15_076642_0916/U15_076642_0916_XN_88S273W.cub: process started\n",
      "INFO:sh.command:/home/ivan/miniconda3/envs/asp/bin/spiceinit from=/mnt/c/Users/Ivan/Documents/PROJECTS/Python/pyameslib/notebooks/output/a_K14_059010_0916_U15_076642_0916/K14_059010_0916_XN_88S273W.cub web=yes: process started\n",
      "INFO:sh.command:/home/ivan/miniconda3/envs/asp/bin/spiceinit from=/mnt/c/Users/Ivan/Documents/PROJECTS/Python/pyameslib/notebooks/output/a_K14_059010_0916_U15_076642_0916/U15_076642_0916_XN_88S273W.cub web=yes: process started\n",
      "INFO:sh.command:/home/ivan/miniconda3/envs/asp/bin/spicefit from=/mnt/c/Users/Ivan/Documents/PROJECTS/Python/pyameslib/notebooks/output/a_K14_059010_0916_U15_076642_0916/K14_059010_0916_XN_88S273W.cub: process started\n",
      "INFO:sh.command:/home/ivan/miniconda3/envs/asp/bin/spicefit from=/mnt/c/Users/Ivan/Documents/PROJECTS/Python/pyameslib/notebooks/output/a_K14_059010_0916_U15_076642_0916/U15_076642_0916_XN_88S273W.cub: process started\n",
      "INFO:sh.command:/home/ivan/miniconda3/envs/asp/bin/ctxcal from=/mnt/c/Users/Ivan/Documents/PROJECTS/Python/pyameslib/notebooks/output/a_K14_059010_0916_U15_076642_0916/K14_059010_0916_XN_88S273W.cub to=/mnt/c/Users/Ivan/Documents/PROJECTS/Python/pyameslib/notebooks/output/a_K14_059010_0916_U15_076642_0916/K14_059010_0916_XN_88S273W.lev1.cub: process started\n",
      "INFO:sh.command:/home/ivan/miniconda3/envs/asp/bin/ctxcal from=/mnt/c/Users/Ivan/Documents/PROJECTS/Python/pyameslib/notebooks/output/a_K14_059010_0916_U15_076642_0916/U15_076642_0916_XN_88S273W.cub to=/mnt/c/Users/Ivan/Documents/PROJECTS/Python/pyameslib/notebooks/output/a_K14_059010_0916_U15_076642_0916/U15_076642_0916_XN_88S273W.lev1.cub: process started\n",
      "INFO:sh.command:/home/ivan/miniconda3/envs/asp/bin/ctxevenodd from=/mnt/c/Users/Ivan/Documents/PROJECTS/Python/pyameslib/notebooks/output/a_K14_059010_0916_U15_076642_0916/K14_059010_0916_XN_88S273W.lev1.cub to=/mnt/c/Users/Ivan/Documents/PROJECTS/Python/pyameslib/notebooks/output/a_K14_059010_0916_U15_076642_0916/K14_059010_0916_XN_88S273W.lev1.eo.cub: process started\n",
      "INFO:sh.command:/home/ivan/miniconda3/envs/asp/bin/ctxevenodd from=/mnt/c/Users/Ivan/Documents/PROJECTS/Python/pyameslib/notebooks/output/a_K14_059010_0916_U15_076642_0916/U15_076642_0916_XN_88S273W.lev1.cub to=/mnt/c/Users/Ivan/Documents/PROJECTS/Python/pyameslib/notebooks/output/a_K14_059010_0916_U15_076642_0916/U15_076642_0916_XN_88S273W.lev1.eo.cub: process started\n"
     ]
    },
    {
     "data": {
      "text/plain": [
       "[, ]"
      ]
     },
     "execution_count": 57,
     "metadata": {},
     "output_type": "execute_result"
    }
   ],
   "execution_count": 57
  },
  {
   "metadata": {
    "ExecuteTime": {
     "end_time": "2025-05-29T10:47:06.111261Z",
     "start_time": "2025-05-29T10:47:05.831828Z"
    }
   },
   "cell_type": "code",
   "source": "!ls {output_path}",
   "outputs": [
    {
     "name": "stdout",
     "output_type": "stream",
     "text": [
      "K14_059010_0916_XN_88S273W.IMG\r\n",
      "K14_059010_0916_XN_88S273W.cub\r\n",
      "K14_059010_0916_XN_88S273W.lev1.cub\r\n",
      "K14_059010_0916_XN_88S273W.lev1.eo.caminfo\r\n",
      "K14_059010_0916_XN_88S273W.lev1.eo.cub\r\n",
      "K14_059010_0916_XN_88S273W.lev1.eo.json\r\n",
      "K14_059010_0916_XN_88S273W.png\r\n",
      "K14_059010_0916_XN_88S273W.png.aux.xml\r\n",
      "K14_059010_0916_XN_88S273W.tif\r\n",
      "U15_076642_0916_XN_88S273W.IMG\r\n",
      "U15_076642_0916_XN_88S273W.cub\r\n",
      "U15_076642_0916_XN_88S273W.lev1.cub\r\n",
      "U15_076642_0916_XN_88S273W.lev1.eo.caminfo\r\n",
      "U15_076642_0916_XN_88S273W.lev1.eo.cub\r\n",
      "U15_076642_0916_XN_88S273W.lev1.eo.json\r\n",
      "U15_076642_0916_XN_88S273W.png\r\n",
      "U15_076642_0916_XN_88S273W.png.aux.xml\r\n",
      "U15_076642_0916_XN_88S273W.tif\r\n"
     ]
    }
   ],
   "execution_count": 58
  },
  {
   "metadata": {},
   "cell_type": "markdown",
   "source": [
    "# 3. Metadata init\n",
    "\n",
    "Now we create a number of metadata files used by the asp_scripts project to simplify future command calls. We also copy our preprocessed CTX cub files into a new working directory where all the stereo products will be computed. This new directory name uses both image IDs joined by an underscore ‘{left_id}_{right_id}’, for example: “B03_010644_1889_XN_08N001W_P02_001902_1889_XI_08N001W”.\n",
    "\n",
    "`$ asap ctx step_3`"
   ]
  },
  {
   "cell_type": "code",
   "metadata": {
    "collapsed": false,
    "jupyter": {
     "outputs_hidden": false
    },
    "pycharm": {
     "name": "#%%\n"
    },
    "ExecuteTime": {
     "end_time": "2025-05-29T10:47:06.205912Z",
     "start_time": "2025-05-29T10:47:06.118955Z"
    }
   },
   "source": [
    "# \"\"\"\n",
    "#         Create various processing files for future steps\n",
    "#         # todo: deduplicate with hirise side\n",
    "#         \"\"\"\n",
    "# ctx.cs.create_stereopairs_lis()\n",
    "# ctx.cs.create_stereodirs_lis()\n",
    "# ctx.cs.create_stereodirs()\n",
    "# ctx.cs.create_stereopair_lis()\n",
    "# # copy the cub files into the both directory\n",
    "# _, _, both = self.cs.parse_stereopairs()\n",
    "# sh.mv('-n', sh.glob('./*.cub'), f'./{both}/') # Rewrite with !"
   ],
   "outputs": [
    {
     "name": "stderr",
     "output_type": "stream",
     "text": [
      "INFO:sh.command:<Command '/usr/bin/cat ./pair.lis', pid 59763>: process started\n"
     ]
    },
    {
     "ename": "NameError",
     "evalue": "name 'CommonSteps' is not defined",
     "output_type": "error",
     "traceback": [
      "\u001B[0;31m---------------------------------------------------------------------------\u001B[0m",
      "\u001B[0;31mNameError\u001B[0m                                 Traceback (most recent call last)",
      "Cell \u001B[0;32mIn[59], line 6\u001B[0m\n\u001B[1;32m      1\u001B[0m \u001B[38;5;124;03m\"\"\"\u001B[39;00m\n\u001B[1;32m      2\u001B[0m \u001B[38;5;124;03m        Create various processing files for future steps\u001B[39;00m\n\u001B[1;32m      3\u001B[0m \u001B[38;5;124;03m        # todo: deduplicate with hirise side\u001B[39;00m\n\u001B[1;32m      4\u001B[0m \u001B[38;5;124;03m        \"\"\"\u001B[39;00m\n\u001B[1;32m      5\u001B[0m ctx\u001B[38;5;241m.\u001B[39mcs\u001B[38;5;241m.\u001B[39mcreate_stereopairs_lis()\n\u001B[0;32m----> 6\u001B[0m \u001B[43mctx\u001B[49m\u001B[38;5;241;43m.\u001B[39;49m\u001B[43mcs\u001B[49m\u001B[38;5;241;43m.\u001B[39;49m\u001B[43mcreate_stereodirs_lis\u001B[49m\u001B[43m(\u001B[49m\u001B[43m)\u001B[49m\n\u001B[1;32m      7\u001B[0m ctx\u001B[38;5;241m.\u001B[39mcs\u001B[38;5;241m.\u001B[39mcreate_stereodirs()\n\u001B[1;32m      8\u001B[0m ctx\u001B[38;5;241m.\u001B[39mcs\u001B[38;5;241m.\u001B[39mcreate_stereopair_lis()\n",
      "File \u001B[0;32m/mnt/c/Users/Ivan/Documents/PROJECTS/Python/pyameslib/src/asp_wrapper.py:398\u001B[0m, in \u001B[0;36mAmesPipelineWrapper.create_stereodirs_lis\u001B[0;34m()\u001B[0m\n\u001B[1;32m    395\u001B[0m \u001B[38;5;129m@staticmethod\u001B[39m\n\u001B[1;32m    396\u001B[0m \u001B[38;5;28;01mdef\u001B[39;00m\u001B[38;5;250m \u001B[39m\u001B[38;5;21mcreate_stereodirs_lis\u001B[39m():\n\u001B[1;32m    397\u001B[0m     \u001B[38;5;28;01mwith\u001B[39;00m \u001B[38;5;28mopen\u001B[39m(\u001B[38;5;124m'\u001B[39m\u001B[38;5;124m./stereodirs.lis\u001B[39m\u001B[38;5;124m'\u001B[39m, \u001B[38;5;124m'\u001B[39m\u001B[38;5;124mw\u001B[39m\u001B[38;5;124m'\u001B[39m) \u001B[38;5;28;01mas\u001B[39;00m out:\n\u001B[0;32m--> 398\u001B[0m         _, _, left_right \u001B[38;5;241m=\u001B[39m AmesPipelineWrapper\u001B[38;5;241m.\u001B[39mparse_stereopairs()\n\u001B[1;32m    399\u001B[0m         out\u001B[38;5;241m.\u001B[39mwrite(left_right)\n",
      "\u001B[0;31mNameError\u001B[0m: name 'CommonSteps' is not defined"
     ]
    }
   ],
   "execution_count": 59
  },
  {
   "cell_type": "markdown",
   "metadata": {
    "collapsed": false,
    "jupyter": {
     "outputs_hidden": false
    },
    "pycharm": {
     "name": "#%% md\n"
    }
   },
   "source": "## 3.1. Stereo Quality Report"
  },
  {
   "cell_type": "code",
   "metadata": {
    "collapsed": false,
    "jupyter": {
     "outputs_hidden": false
    },
    "pycharm": {
     "name": "#%%\n"
    },
    "ExecuteTime": {
     "end_time": "2025-05-29T10:47:05.650624800Z",
     "start_time": "2025-05-29T10:14:11.758439Z"
    }
   },
   "source": [
    "qual_report = asp.get_stereo_quality_report(f'{output_path + left_id}.lev1.eo.cub', f'{output_path + right_id}.lev1.eo.cub')\n",
    "print(qual_report)"
   ],
   "outputs": [
    {
     "name": "stderr",
     "output_type": "stream",
     "text": [
      "INFO:sh.command:<Command '/home/ivan/miniconda3/envs/asp/bin/caminfo from=/mnt/c/Users/Ivan/Documents/PROJECTS/Python/pyameslib/notebooks/output/a_K14_059010_0916_U15_076642_0916/K14_059010_0916_XN_88S273W.lev1.eo.cub to=/mnt/c/Users/Ivan/Documents/PROJECTS/Python/pyameslib/notebooks/output/a_K14_059010_0916_U15_076642_0916/K14_059010_0916_XN_88S273W.lev1.eo.caminfo polygon=True', pid 52723>: process started\n",
      "INFO:sh.command:<Command '/home/ivan/miniconda3/envs/asp/bin/caminfo from=/mnt/c/Users/Ivan/Documents/PROJECTS/Python/pyameslib/notebooks/output/a_K14_059010_0916_U15_076642_0916/U15_076642_0916_XN_88S273W.lev1.eo.cub to=/mnt/c/Users/Ivan/Documents/PROJECTS/Python/pyameslib/notebooks/output/a_K14_059010_0916_U15_076642_0916/U15_076642_0916_XN_88S273W.lev1.eo.caminfo polygon=True', pid 52743>: process started\n"
     ]
    },
    {
     "name": "stdout",
     "output_type": "stream",
     "text": [
      "\n",
      "    Stereo Pair Quality Report:\n",
      "\n",
      "    Image 1: K14_059010_0916_XN_88S273W.lev1.eo.cub\n",
      "    Image 2: U15_076642_0916_XN_88S273W.lev1.eo.cub\n",
      "                            Image 1  Image 2\n",
      "           Incidence Angle:  84.00    83.78\n",
      "                   Quality:  -1.27    -1.25\n",
      "            Emission Angle:  28.36    32.08\n",
      "                   Quality:   0.74     0.57\n",
      "               Phase Angle:  98.72   102.55\n",
      "                   Quality:   0.35     0.29\n",
      "\n",
      "     Subspacecraft Azimuth:  64.42    77.33\n",
      "          Subsolar Azimuth: 311.48   311.48\n",
      "                   Quality:       1.00\n",
      "    Ground Sample Distance:   6.18     6.58\n",
      "                   Quality:       0.96\n",
      "\n",
      "    Stereo Overlap Fraction: 0.81\n",
      "            Overlap Quality: 1.00\n",
      "\n",
      "                Parallax Angle: 7.47\n",
      "    Parallax/Height Ratio (dp): 0.16\n",
      "       Stereo Strength Quality: 0.19\n",
      "\n",
      "    Stereo Tip Distance (dsh): 1.37\n",
      "         Illumination Quality: 0.47\n",
      "    \n",
      "    This pair of images probably won't make a good stereo pair because there were\n",
      "    2 qualities less than or equal to zero.\n",
      "            \n"
     ]
    }
   ],
   "execution_count": 32
  },
  {
   "cell_type": "markdown",
   "metadata": {
    "collapsed": false,
    "jupyter": {
     "outputs_hidden": false
    },
    "pycharm": {
     "name": "#%% md\n"
    }
   },
   "source": [
    "### Downsample images if requested"
   ]
  },
  {
   "cell_type": "code",
   "execution_count": null,
   "metadata": {
    "collapsed": false,
    "jupyter": {
     "outputs_hidden": false
    },
    "pycharm": {
     "name": "#%%\n"
    }
   },
   "outputs": [],
   "source": [
    "if downsample:\n",
    "    true_img_gsd_left = asp.get_image_gsd(f'{left}_{right}/{left}.lev1eo.cub')\n",
    "    true_img_gsd_right = asp.get_image_gsd(f'{left}_{right}/{right}.lev1eo.cub')\n",
    "    # take conservative approach, pick worst image GSD\n",
    "    res_gsd = max(true_img_gsd_left, true_img_gsd_right)\n",
    "    # this is because rescale in ISIS does not update GSD in metadata\n",
    "    asp.rescale_and_overwrite(factor=downsample)\n",
    "    img_gsd = math.ceil(res_gsd)*downsample\n",
    "    dem_gsd = 4*img_gsd\n",
    "    print('new img gsd', img_gsd)\n",
    "    print('new dem gsd', dem_gsd)"
   ]
  },
  {
   "cell_type": "markdown",
   "metadata": {},
   "source": [
    "# 4. Bundle adjustment\n",
    "\n",
    "We will use the parallel_bundle_adjust command from Ames Stereo Pipeline to refine the spacecraft position and orientation. The user can later re-run this step with more advanced options or GCPs if so desired.\n",
    "\n",
    "`!asap ctx step_4 {asap.kwarg_parse(step_kwargs, 'step_4')} 2>&1 | tee -i -a ./2_bundle_adjust.log ./full_log.log`"
   ]
  },
  {
   "cell_type": "code",
   "metadata": {
    "collapsed": false,
    "jupyter": {
     "outputs_hidden": false
    },
    "pycharm": {
     "name": "#%%\n"
    },
    "ExecuteTime": {
     "end_time": "2025-05-29T22:17:28.709667Z",
     "start_time": "2025-05-29T22:17:07.983724Z"
    }
   },
   "source": [
    "\"\"\"\n",
    "Bundle Adjust CTX\n",
    "\n",
    "Run bundle adjustment on the CTX map projected data\n",
    "\n",
    ":param vargs: variable length additional positional arguments to pass to bundle adjust\n",
    ":param bundle_adjust_prefix: prefix for bundle adjust output\n",
    ":param postfix: postfix for cub files to use\n",
    ":param camera_postfix: postfix for cameras\n",
    "\"\"\"\n",
    "asp.bundle_adjust(bundle_adjust_prefix='adjust/ba', postfix='.lev1.eo.cub',\n",
    "               camera_postfix='.lev1.eo.json')"
   ],
   "outputs": [
    {
     "name": "stdout",
     "output_type": "stream",
     "text": [
      "# Started: bundle_adjust (Bundle adjustment wrapper), at: 2025-05-30 01:17:08.578172\n"
     ]
    },
    {
     "name": "stderr",
     "output_type": "stream",
     "text": [
      "INFO:sh.command:/home/ivan/miniconda3/envs/asp/bin/isd_generate -v --max_workers 16 /mnt/c/Users/Ivan/Documents/PROJECTS/Python/pyameslib/notebooks/output/a_K14_059010_0916_U15_076642_0916/K14_059010_0916_XN_88S273W.lev1.eo.cub /mnt/c/Users/Ivan/Documents/PROJECTS/Python/pyameslib/notebooks/output/a_K14_059010_0916_U15_076642_0916/U15_076642_0916_XN_88S273W.lev1.eo.cub: process started\n",
      "INFO:sh.command:/home/ivan/miniconda3/envs/asp/bin/cam_test --image /mnt/c/Users/Ivan/Documents/PROJECTS/Python/pyameslib/notebooks/output/a_K14_059010_0916_U15_076642_0916/K14_059010_0916_XN_88S273W.lev1.eo.cub --cam1 /mnt/c/Users/Ivan/Documents/PROJECTS/Python/pyameslib/notebooks/output/a_K14_059010_0916_U15_076642_0916/K14_059010_0916_XN_88S273W.lev1.eo.cub --cam2 /mnt/c/Users/Ivan/Documents/PROJECTS/Python/pyameslib/notebooks/output/a_K14_059010_0916_U15_076642_0916/K14_059010_0916_XN_88S273W.lev1.eo.json --sample-rate 1000 --subpixel-offset 0.25: process started\n",
      "INFO:sh.command:/home/ivan/miniconda3/envs/asp/bin/cam_test --image /mnt/c/Users/Ivan/Documents/PROJECTS/Python/pyameslib/notebooks/output/a_K14_059010_0916_U15_076642_0916/U15_076642_0916_XN_88S273W.lev1.eo.cub --cam1 /mnt/c/Users/Ivan/Documents/PROJECTS/Python/pyameslib/notebooks/output/a_K14_059010_0916_U15_076642_0916/U15_076642_0916_XN_88S273W.lev1.eo.cub --cam2 /mnt/c/Users/Ivan/Documents/PROJECTS/Python/pyameslib/notebooks/output/a_K14_059010_0916_U15_076642_0916/U15_076642_0916_XN_88S273W.lev1.eo.json --sample-rate 1000 --subpixel-offset 0.25: process started\n"
     ]
    },
    {
     "name": "stdout",
     "output_type": "stream",
     "text": [
      "\t--> Setting number of processing threads to: 4\n",
      "Using session: isis\n",
      "Loading camera model: /mnt/c/Users/Ivan/Documents/PROJECTS/Python/pyameslib/notebooks/output/a_K14_059010_0916_U15_076642_0916/K14_059010_0916_XN_88S273W.lev1.eo.cub /mnt/c/Users/Ivan/Documents/PROJECTS/Python/pyameslib/notebooks/output/a_K14_059010_0916_U15_076642_0916/K14_059010_0916_XN_88S273W.lev1.eo.cub\n",
      "Using session: csm\n",
      "Loading camera model: /mnt/c/Users/Ivan/Documents/PROJECTS/Python/pyameslib/notebooks/output/a_K14_059010_0916_U15_076642_0916/K14_059010_0916_XN_88S273W.lev1.eo.cub /mnt/c/Users/Ivan/Documents/PROJECTS/Python/pyameslib/notebooks/output/a_K14_059010_0916_U15_076642_0916/K14_059010_0916_XN_88S273W.lev1.eo.json\n",
      "Using datum: Geodetic Datum --> Name: D_Mars  Spheroid: Mars  Semi-major axis: 3396190  Semi-minor axis: 3396190  Meridian: Reference Meridian at 0  Proj4 Str: +proj=longlat +R=3396190 +no_defs\n",
      "Image dimensions: 5000 7168\n",
      "Number of samples: 40\n",
      "\n",
      "cam1 to cam2 camera direction diff norm\n",
      "Min:    9.80055e-10\n",
      "Median: 4.6593e-09\n",
      "Max:    5.44212e-09\n",
      "\n",
      "cam1 to cam2 camera center diff (meters)\n",
      "Min:    7.68196e-06\n",
      "Median: 0.000204689\n",
      "Max:    0.127691\n",
      "\n",
      "cam1 to cam2 pixel diff\n",
      "Min:    0.000111759\n",
      "Median: 0.000260609\n",
      "Max:    0.00875633\n",
      "\n",
      "cam2 to cam1 pixel diff\n",
      "Min:    0.000110371\n",
      "Median: 0.000261561\n",
      "Max:    0.00887313\n",
      "\n",
      "Elapsed time per sample: 32.35 milliseconds.\n",
      "It is suggested to adjust the sample rate to produce more samples if desired to evaluate more accurately the elapsed time per sample.\n",
      "\n"
     ]
    },
    {
     "name": "stderr",
     "output_type": "stream",
     "text": [
      "INFO:sh.command:/home/ivan/miniconda3/envs/asp/bin/parallel_bundle_adjust --threads 16 /mnt/c/Users/Ivan/Documents/PROJECTS/Python/pyameslib/notebooks/output/a_K14_059010_0916_U15_076642_0916/K14_059010_0916_XN_88S273W.lev1.eo.cub /mnt/c/Users/Ivan/Documents/PROJECTS/Python/pyameslib/notebooks/output/a_K14_059010_0916_U15_076642_0916/U15_076642_0916_XN_88S273W.lev1.eo.cub /mnt/c/Users/Ivan/Documents/PROJECTS/Python/pyameslib/notebooks/output/a_K14_059010_0916_U15_076642_0916/K14_059010_0916_XN_88S273W.lev1.eo.json /mnt/c/Users/Ivan/Documents/PROJECTS/Python/pyameslib/notebooks/output/a_K14_059010_0916_U15_076642_0916/U15_076642_0916_XN_88S273W.lev1.eo.json -o /mnt/c/Users/Ivan/Documents/PROJECTS/Python/pyameslib/notebooks/output/a_K14_059010_0916_U15_076642_0916/adjust/ba --save-cnet-as-csv --datum D_MARS --max-iterations 100: process started\n"
     ]
    },
    {
     "name": "stdout",
     "output_type": "stream",
     "text": [
      "\t--> Setting number of processing threads to: 4\n",
      "Using session: isis\n",
      "Loading camera model: /mnt/c/Users/Ivan/Documents/PROJECTS/Python/pyameslib/notebooks/output/a_K14_059010_0916_U15_076642_0916/U15_076642_0916_XN_88S273W.lev1.eo.cub /mnt/c/Users/Ivan/Documents/PROJECTS/Python/pyameslib/notebooks/output/a_K14_059010_0916_U15_076642_0916/U15_076642_0916_XN_88S273W.lev1.eo.cub\n",
      "Using session: csm\n",
      "Loading camera model: /mnt/c/Users/Ivan/Documents/PROJECTS/Python/pyameslib/notebooks/output/a_K14_059010_0916_U15_076642_0916/U15_076642_0916_XN_88S273W.lev1.eo.cub /mnt/c/Users/Ivan/Documents/PROJECTS/Python/pyameslib/notebooks/output/a_K14_059010_0916_U15_076642_0916/U15_076642_0916_XN_88S273W.lev1.eo.json\n",
      "Using datum: Geodetic Datum --> Name: D_Mars  Spheroid: Mars  Semi-major axis: 3396190  Semi-minor axis: 3396190  Meridian: Reference Meridian at 0  Proj4 Str: +proj=longlat +R=3396190 +no_defs\n",
      "Image dimensions: 5000 7168\n",
      "Number of samples: 40\n",
      "\n",
      "cam1 to cam2 camera direction diff norm\n",
      "Min:    7.63022e-10\n",
      "Median: 3.51525e-09\n",
      "Max:    4.10277e-09\n",
      "\n",
      "cam1 to cam2 camera center diff (meters)\n",
      "Min:    5.76722e-05\n",
      "Median: 0.000204626\n",
      "Max:    0.12765\n",
      "\n",
      "cam1 to cam2 pixel diff\n",
      "Min:    8.47375e-05\n",
      "Median: 0.000196096\n",
      "Max:    0.00968951\n",
      "\n",
      "cam2 to cam1 pixel diff\n",
      "Min:    8.47748e-05\n",
      "Median: 0.00020457\n",
      "Max:    0.0098063\n",
      "\n",
      "Elapsed time per sample: 30.975 milliseconds.\n",
      "It is suggested to adjust the sample rate to produce more samples if desired to evaluate more accurately the elapsed time per sample.\n",
      "\n",
      "# Finished: bundle_adjust (Bundle adjustment wrapper), at: 2025-05-30 01:17:28.706790, duration: 0:00:20.128618\n"
     ]
    }
   ],
   "execution_count": 69
  },
  {
   "cell_type": "markdown",
   "metadata": {},
   "source": [
    "# 5. Stereo first run (steps 1-3 of stereo in ASP)\n",
    "\n",
    "Now we can start making our first dem, we pass in the stereo config file to parallel_stereo. We split this into two parts (step 5 & 6) as we may want to run each part with slightly different parameters or give us a chance to inspect the outputs before the final step which can be long running. In the future Step 5 & & maybe reconfigured into the 4 sub-steps for further improvement to the workflow.\n",
    "\n",
    "`!asap ctx step_5 {config1} {asap.kwarg_parse(step_kwargs, 'step_5')} 2>&1 | tee -i -a ./3_lev1eo2dem.log ./full_log.log`"
   ]
  },
  {
   "cell_type": "code",
   "metadata": {
    "collapsed": false,
    "jupyter": {
     "outputs_hidden": false
    },
    "pycharm": {
     "name": "#%%\n"
    },
    "ExecuteTime": {
     "end_time": "2025-05-29T23:01:58.323709Z",
     "start_time": "2025-05-29T22:46:09.747741Z"
    }
   },
   "source": [
    "\"\"\"\n",
    "Parallel Stereo Part 1\n",
    "\n",
    "Run first part of parallel_stereo asp_ctx_lev1eo2dem.sh\n",
    "\n",
    ":param postfix: postfix for cub files to use\n",
    ":param camera_postfix: postfix for cameras  # TODO: use .adjusted_state.json?\n",
    "\"\"\"\n",
    "# defaults_ps1 = {\n",
    "#     '--processes': _processes,\n",
    "#     '--threads-singleprocess': _threads_singleprocess,\n",
    "#     '--threads-multiprocess': _threads_multiprocess,\n",
    "#     '--stop-point': 5,\n",
    "#     '--bundle-adjust-prefix': 'adjust/ba'\n",
    "# }\n",
    "\n",
    "# asp.stereo_asap(cub_postfix='.lev1.eo.cub', cam_postfix='.lev1.eo.json', stop_point=5)\n",
    "asp.stereo_asap(\n",
    "    cub_postfix='.lev1.eo.cub',\n",
    "    cam_postfix='.lev1.eo.json',\n",
    "    stop_point=5,\n",
    "    alignment_method='local_epipolar',\n",
    "    stereo_algorithm='libelas',\n",
    "    job_size_h=512,\n",
    "    job_size_w=512,\n",
    "    sgm_collar_size=128,\n",
    "    corr_memory_limit_mb=16384\n",
    ")"
   ],
   "outputs": [
    {
     "name": "stdout",
     "output_type": "stream",
     "text": [
      "# Started: stereo_asap (Runs parallel_stereo command.), at: 2025-05-30 01:46:09.799186\n"
     ]
    },
    {
     "name": "stderr",
     "output_type": "stream",
     "text": [
      "INFO:sh.command:/home/ivan/miniconda3/envs/asp/bin/parallel_stereo --stereo-algorithm libelas --processes 2 --threads-singleprocess 16 --threads-multiprocess 8 --alignment-method local_epipolar --job-size-h 512 --job-size-w 512 --sgm-collar-size 128 --corr-memory-limit-mb 16384 --entry-point 0 --stop-point 5 --bundle-adjust-prefix /mnt/c/Users/Ivan/Documents/PROJECTS/Python/pyameslib/notebooks/output/a_K14_059010_0916_U15_076642_0916/adjust/ba /mnt/c/Users/Ivan/Documents/PROJECTS/Python/pyameslib/notebooks/output/a_K14_059010_0916_U15_076642_0916/K14_059010_0916_XN_88S273W.lev1.eo.cub /mnt/c/Users/Ivan/Documents/PROJECTS/Python/pyameslib/notebooks/output/a_K14_059010_0916_U15_076642_0916/U15_076642_0916_XN_88S273W.lev1.eo.cub /mnt/c/Users/Ivan/Documents/PROJECTS/Python/pyameslib/notebooks/output/a_K14_059010_0916_U15_076642_0916/K14_059010_0916_XN_88S273W.lev1.eo.json /mnt/c/Users/Ivan/Documents/PROJECTS/Python/pyameslib/notebooks/output/a_K14_059010_0916_U15_076642_0916/U15_076642_0916_XN_88S273W.lev1.eo.json /mnt/c/Users/Ivan/Documents/PROJECTS/Python/pyameslib/notebooks/output/a_K14_059010_0916_U15_076642_0916/results/out: process started\n"
     ]
    },
    {
     "name": "stdout",
     "output_type": "stream",
     "text": [
      "# Finished: stereo_asap (Runs parallel_stereo command.), at: 2025-05-30 02:01:58.321012, duration: 0:15:48.521826\n"
     ]
    }
   ],
   "execution_count": 75
  },
  {
   "cell_type": "markdown",
   "metadata": {},
   "source": [
    "# 6. Stereo first run (step 4 of stereo in ASP)\n",
    "\n",
    "Run step 4, see step 5 above for more information.\n",
    "\n",
    "`!asap ctx step_6 {config1} {asap.kwarg_parse(step_kwargs, 'step_6')}  2>&1 | tee -i -a ./3_lev1eo2dem.log ./full_log.log`"
   ]
  },
  {
   "cell_type": "code",
   "metadata": {
    "collapsed": false,
    "jupyter": {
     "outputs_hidden": false
    },
    "pycharm": {
     "name": "#%%\n"
    },
    "ExecuteTime": {
     "end_time": "2025-05-29T23:02:38.059827Z",
     "start_time": "2025-05-29T23:02:35.984490Z"
    }
   },
   "source": [
    "# Parallel Stereo Part 2\n",
    "#\n",
    "# Run second part of parallel_stereo, asp_ctx_lev1eo2dem.sh stereo is completed after this step\n",
    "#\n",
    "# :param postfix: postfix for cub files to use\n",
    "# :param camera_postfix: postfix for cameras  # TODO: use .adjusted_state.json?\n",
    "\n",
    "# defaults_ps2 = {\n",
    "    #     '--processes': _threads_singleprocess,  # use more cores for triangulation!\n",
    "    #     '--threads-singleprocess': _threads_singleprocess,\n",
    "    #     '--threads-multiprocess': _threads_multiprocess,\n",
    "    #     '--entry-point': 5,\n",
    "    #     '--bundle-adjust-prefix': 'adjust/ba'\n",
    "    # }\n",
    "\n",
    "# return self.cs.stereo_asap(stereo_conf, postfix=postfix, camera_postfix=camera_postfix,\n",
    "#                            posargs=posargs, **{**self.cs.defaults_ps2, **kwargs})\n",
    "asp.stereo_asap(cub_postfix='.lev1.eo.cub', cam_postfix='.lev1.eo.json', entry_point=5)"
   ],
   "outputs": [
    {
     "name": "stdout",
     "output_type": "stream",
     "text": [
      "# Started: stereo_asap (Runs parallel_stereo command.), at: 2025-05-30 02:02:36.041373\n"
     ]
    },
    {
     "name": "stderr",
     "output_type": "stream",
     "text": [
      "INFO:sh.command:/home/ivan/miniconda3/envs/asp/bin/parallel_stereo --stereo-algorithm asp_mgm --processes 2 --threads-singleprocess 16 --threads-multiprocess 8 --entry-point 5 --stop-point 5 --bundle-adjust-prefix /mnt/c/Users/Ivan/Documents/PROJECTS/Python/pyameslib/notebooks/output/a_K14_059010_0916_U15_076642_0916/adjust/ba /mnt/c/Users/Ivan/Documents/PROJECTS/Python/pyameslib/notebooks/output/a_K14_059010_0916_U15_076642_0916/K14_059010_0916_XN_88S273W.lev1.eo.cub /mnt/c/Users/Ivan/Documents/PROJECTS/Python/pyameslib/notebooks/output/a_K14_059010_0916_U15_076642_0916/U15_076642_0916_XN_88S273W.lev1.eo.cub /mnt/c/Users/Ivan/Documents/PROJECTS/Python/pyameslib/notebooks/output/a_K14_059010_0916_U15_076642_0916/K14_059010_0916_XN_88S273W.lev1.eo.json /mnt/c/Users/Ivan/Documents/PROJECTS/Python/pyameslib/notebooks/output/a_K14_059010_0916_U15_076642_0916/U15_076642_0916_XN_88S273W.lev1.eo.json /mnt/c/Users/Ivan/Documents/PROJECTS/Python/pyameslib/notebooks/output/a_K14_059010_0916_U15_076642_0916/results/out: process started\n"
     ]
    },
    {
     "name": "stdout",
     "output_type": "stream",
     "text": [
      "# Finished: stereo_asap (Runs parallel_stereo command.), at: 2025-05-30 02:02:38.057151, duration: 0:00:02.015778\n"
     ]
    }
   ],
   "execution_count": 76
  },
  {
   "cell_type": "markdown",
   "metadata": {},
   "source": [
    "# 7. Produce low resolution DEM for map projection\n",
    "\n",
    "We have made a point cloud, but it is preliminary so we will use it to make a 100 mpp DEM to map-project the CTX images to, to produce a better 2nd pass DEM.\n",
    "\n",
    "\n",
    "`! asap ctx step_7 --mpp 100 --just_ortho False --dem_hole_fill_len 50 {asap.kwarg_parse(step_kwargs, 'step_7')} 2>&1 | tee -i -a ./4_make_100m_dem.log ./full_log.log`"
   ]
  },
  {
   "cell_type": "code",
   "execution_count": 7,
   "metadata": {
    "ExecuteTime": {
     "end_time": "2025-05-18T22:24:50.830265Z",
     "start_time": "2025-05-18T22:24:50.722277Z"
    }
   },
   "outputs": [],
   "source": [
    "\"\"\"\n",
    "Produce preview DEMs/Orthos\n",
    "\n",
    "Produce dem from point cloud, by default 24mpp for ctx for max-disparity estimation\n",
    "\n",
    ":param run: folder for results\n",
    ":param just_ortho: set to True if you only want the ortho image, else make dem and error image\n",
    ":param mpp: resolution in meters per pixel\n",
    ":param postfix: postfix for cub files to use\n",
    "\"\"\"\n",
    "mpp = 100\n",
    "just_ortho = False\n",
    "dem_hole_fill_len = 50\n",
    "\n",
    "# return self.cs.point_to_dem(mpp, 'PC.tif',\n",
    "#                             just_ortho=just_ortho,\n",
    "#                             postfix=postfix,\n",
    "#                             run=run,\n",
    "#                             kind='ba',\n",
    "#                             use_proj=self.proj,\n",
    "#                             **kwargs)\n",
    "ctx.cs.point_to_dem(mpp, 'PC.tif', just_ortho=just_ortho)"
   ]
  },
  {
   "cell_type": "markdown",
   "metadata": {},
   "source": [
    "# 8. Make GoodPixelMap and Hillshade Previews\n",
    "We make image previews of the DEM using the next few steps to check for issues with our first pass DEM. First we will render out the good pixel map image and then the hillshade of the DEM to look for issues with the topography.\n",
    "\n",
    "`!asap ctx step-8`"
   ]
  },
  {
   "cell_type": "code",
   "execution_count": null,
   "metadata": {
    "collapsed": false,
    "jupyter": {
     "outputs_hidden": false
    },
    "pycharm": {
     "name": "#%%\n"
    }
   },
   "outputs": [],
   "source": [
    "\"\"\"\n",
    "hillshade First step in asp_ctx_step2_map2dem script\n",
    "\n",
    ":param output_folder:\n",
    ":param run:\n",
    "\"\"\"\n",
    "left, right, both = ctx.cs.parse_stereopairs()\n",
    "with cd(Path.cwd() / both / run / output_folder):\n",
    "    dem = next(Path.cwd().glob('*DEM.tif'))\n",
    "    self.cs.hillshade(dem.name, f'./{dem.stem}-hillshade.tif')"
   ]
  },
  {
   "cell_type": "markdown",
   "metadata": {
    "collapsed": false,
    "jupyter": {
     "outputs_hidden": false
    },
    "pycharm": {
     "name": "#%% md\n"
    }
   },
   "source": "## Good Pixel Map"
  },
  {
   "metadata": {},
   "cell_type": "markdown",
   "source": "Use some python to specify a new file name for the png version"
  },
  {
   "cell_type": "code",
   "execution_count": null,
   "metadata": {
    "collapsed": false,
    "jupyter": {
     "outputs_hidden": false
    },
    "pycharm": {
     "name": "#%%\n"
    }
   },
   "outputs": [],
   "source": [
    "both = f'{left}_{right}'\n",
    "img = f'./{both}/results_ba/{both}_ba-GoodPixelMap.tif'\n",
    "out = img.replace('.tif', '.png')"
   ]
  },
  {
   "metadata": {},
   "cell_type": "markdown",
   "source": "Use gdal_translate to produce a png version of the hillshade image."
  },
  {
   "cell_type": "code",
   "execution_count": null,
   "metadata": {
    "collapsed": false,
    "jupyter": {
     "outputs_hidden": false
    },
    "pycharm": {
     "name": "#%%\n"
    }
   },
   "outputs": [],
   "source": [
    "!gdal_translate -of PNG -co worldfile=yes {img} {out}"
   ]
  },
  {
   "metadata": {},
   "cell_type": "markdown",
   "source": "Display the image in the notebook."
  },
  {
   "cell_type": "code",
   "execution_count": null,
   "metadata": {
    "collapsed": false,
    "jupyter": {
     "outputs_hidden": false
    },
    "pycharm": {
     "name": "#%%\n"
    }
   },
   "outputs": [],
   "source": [
    "Image(filename=out, width=800)"
   ]
  },
  {
   "cell_type": "markdown",
   "metadata": {
    "collapsed": false,
    "jupyter": {
     "outputs_hidden": false
    },
    "pycharm": {
     "name": "#%% md\n"
    }
   },
   "source": [
    "## Hillshade of low res DEM"
   ]
  },
  {
   "metadata": {},
   "cell_type": "markdown",
   "source": "Now again for the hillshade"
  },
  {
   "cell_type": "code",
   "execution_count": null,
   "metadata": {
    "collapsed": false,
    "jupyter": {
     "outputs_hidden": false
    },
    "pycharm": {
     "name": "#%%\n"
    }
   },
   "outputs": [],
   "source": [
    "both = f'{left}_{right}'\n",
    "img = f'./{both}/results_ba/dem/{both}_ba_100_0-DEM-hillshade.tif'\n",
    "out = img.replace('.tif', '.png')"
   ]
  },
  {
   "metadata": {},
   "cell_type": "markdown",
   "source": "Convert to a png file again."
  },
  {
   "cell_type": "code",
   "execution_count": null,
   "metadata": {
    "collapsed": false,
    "jupyter": {
     "outputs_hidden": false
    },
    "pycharm": {
     "name": "#%%\n"
    }
   },
   "outputs": [],
   "source": [
    "!gdal_translate -of PNG -co worldfile=yes {img} {out}"
   ]
  },
  {
   "metadata": {},
   "cell_type": "markdown",
   "source": "Display the image in the notebook."
  },
  {
   "cell_type": "code",
   "execution_count": null,
   "metadata": {
    "collapsed": false,
    "jupyter": {
     "outputs_hidden": false
    },
    "pycharm": {
     "name": "#%%\n"
    }
   },
   "outputs": [],
   "source": [
    "Image(filename=out, width=800)"
   ]
  },
  {
   "cell_type": "markdown",
   "metadata": {
    "collapsed": false,
    "jupyter": {
     "outputs_hidden": false
    },
    "pycharm": {
     "name": "#%% md\n"
    }
   },
   "source": [
    "# 9. Mapproject ctx against 100m DEM\n",
    "\n",
    "We now map-project our ctx images against our low resolution DEM to reduce image distortion for our 2nd pass DEM.\n",
    "\n",
    "`!asap ctx step_9 --mpp {img_gsd} {asap.kwarg_parse(step_kwargs, 'step_9')} 2>&1 | tee -i -a ./5_mapproject_to_100m_dem.log ./full_log.log`"
   ]
  },
  {
   "cell_type": "code",
   "execution_count": null,
   "metadata": {
    "collapsed": false,
    "jupyter": {
     "outputs_hidden": false
    },
    "pycharm": {
     "name": "#%%\n"
    }
   },
   "outputs": [],
   "source": [
    "\"\"\"\"\n",
    "Mapproject the left and right ctx images against the reference DEM\n",
    "\n",
    ":param run: name of run\n",
    ":param refdem: reference dem to map project using\n",
    ":param mpp: target GSD\n",
    ":param postfix: postfix for cub files to use\n",
    ":param camera_postfix: postfix for cameras to use\n",
    "\"\"\"\n",
    "left, right, both = ctx.cs.parse_stereopairs()\n",
    "if not refdem:\n",
    "    refdem = Path.cwd() / both / run / 'dem' / f'{both}_ba_100_0-DEM.tif'\n",
    "else:\n",
    "    refdem = Path(refdem).absolute()\n",
    "with cd(Path.cwd() / both):\n",
    "    # double check provided gsd\n",
    "    _left, _right = f'{left}{postfix}', f'{right}{postfix}'\n",
    "    _leftcam, _rightcam = f'{left}{camera_postfix}', f'{right}{camera_postfix}'\n",
    "    ctx.cs.check_mpp_against_true_gsd(_left, mpp)\n",
    "    ctx.cs.check_mpp_against_true_gsd(_right, mpp)\n",
    "    # map project both ctx images against the reference dem\n",
    "    # might need to do par do here\n",
    "    ctx.cs.mapproject(refdem, _left, _leftcam, f'{left}.ba.map.tif', '--mpp', mpp,\n",
    "                       '--bundle-adjust-prefix', 'adjust/ba')\n",
    "    ctx.cs.mapproject(refdem, _right, _rightcam, f'{right}.ba.map.tif', '--mpp', mpp,\n",
    "                       '--bundle-adjust-prefix', 'adjust/ba')"
   ]
  },
  {
   "cell_type": "markdown",
   "metadata": {
    "collapsed": false,
    "jupyter": {
     "outputs_hidden": false
    },
    "pycharm": {
     "name": "#%% md\n"
    }
   },
   "source": "# 10. Calculate Better DEM using prior"
  },
  {
   "metadata": {},
   "cell_type": "markdown",
   "source": [
    "Same as step 5, just using the new map projected images this time.\n",
    "\n",
    "`!asap ctx step_10 {config2} {asap.kwarg_parse(step_kwargs, 'step_10')} 2>&1 | tee -i -a ./6_next_level_dem.log ./full_log.log`"
   ]
  },
  {
   "metadata": {},
   "cell_type": "code",
   "outputs": [],
   "execution_count": null,
   "source": "pass"
  },
  {
   "metadata": {},
   "cell_type": "markdown",
   "source": [
    "Same as step 6, just using the new map projected images this time.\n",
    "\n",
    "`!asap ctx step_11 {config2} {asap.kwarg_parse(step_kwargs, 'step_11')} 2>&1 | tee -i -a ./6_next_level_dem.log ./full_log.log`"
   ]
  },
  {
   "metadata": {},
   "cell_type": "code",
   "outputs": [],
   "execution_count": null,
   "source": "pass"
  },
  {
   "metadata": {},
   "cell_type": "markdown",
   "source": "We have made our second point cloud, so we should export some visuals as before. The parameter ‘–folder’ just specifies that we are saving things into a different directory this time around."
  },
  {
   "metadata": {},
   "cell_type": "markdown",
   "source": [
    "`!asap ctx step_7 --mpp {dem_gsd} --run results_map_ba {asap.kwarg_parse(step_kwargs, 'step_7_2')}`\n",
    "\n"
   ]
  },
  {
   "metadata": {},
   "cell_type": "code",
   "outputs": [],
   "execution_count": null,
   "source": "pass"
  },
  {
   "metadata": {},
   "cell_type": "markdown",
   "source": "`!asap ctx step_8 --run results_map_ba`"
  },
  {
   "metadata": {},
   "cell_type": "code",
   "outputs": [],
   "execution_count": null,
   "source": "pass"
  },
  {
   "cell_type": "markdown",
   "metadata": {
    "collapsed": false,
    "jupyter": {
     "outputs_hidden": false
    },
    "pycharm": {
     "name": "#%% md\n"
    }
   },
   "source": [
    "# 11. PC alignment (Step 5)\n",
    "The final important step in the make_dem workflow is to get the MOLA PEDR data for the region we care about. Again, our data is not completely done until it has been aligned to the MOLA topography. If we had GCPs in the bundle adjust stage this would not be as big of an issue, but since it is relatively easy to align to MOLA we don’t need to go through the process of producing GCPs.\n",
    "\n",
    "There are two possibilities, either refdem is none (in which case get pedr data using moody) or we are given a dem\n",
    "currently this will always run even if refdem is provided, but below pc_align call will use refdem if it's not none\n",
    "\n",
    "`!asap ctx step_12 {refdem} 2>&1 | tee -i -a ./7_pedr_for_pc_align.log ./full_log.log`"
   ]
  },
  {
   "cell_type": "code",
   "execution_count": null,
   "metadata": {
    "collapsed": false,
    "jupyter": {
     "outputs_hidden": false
    },
    "pycharm": {
     "name": "#%%\n"
    }
   },
   "outputs": [],
   "source": "pass"
  },
  {
   "cell_type": "markdown",
   "metadata": {
    "pycharm": {
     "name": "#%% md\n"
    }
   },
   "source": [
    "## Good Pixel Preview"
   ]
  },
  {
   "metadata": {},
   "cell_type": "markdown",
   "source": [
    "### Make Final GoodPixelMap and Hillshade Previews\n",
    "\n",
    "Nothing too surprising here, just export PNG versions of the images we care about to see the DEM at this stage of the processing."
   ]
  },
  {
   "cell_type": "code",
   "execution_count": null,
   "metadata": {
    "pycharm": {
     "name": "#%%\n"
    }
   },
   "outputs": [],
   "source": [
    "both = f'{left}_{right}'\n",
    "img = f'./{both}/results_map_ba/{both}_ba-GoodPixelMap.tif'\n",
    "out = img.replace('.tif', '.png')"
   ]
  },
  {
   "cell_type": "code",
   "execution_count": null,
   "metadata": {
    "pycharm": {
     "name": "#%%\n"
    }
   },
   "outputs": [],
   "source": [
    "!gdal_translate -of PNG -co worldfile=yes {img} {out}"
   ]
  },
  {
   "cell_type": "code",
   "execution_count": null,
   "metadata": {
    "pycharm": {
     "name": "#%%\n"
    }
   },
   "outputs": [],
   "source": [
    "Image(filename=out, width=800)"
   ]
  },
  {
   "cell_type": "markdown",
   "metadata": {
    "pycharm": {
     "name": "#%% md\n"
    }
   },
   "source": [
    "## Hillshade of higher res DEM"
   ]
  },
  {
   "cell_type": "code",
   "execution_count": null,
   "metadata": {
    "pycharm": {
     "name": "#%%\n"
    }
   },
   "outputs": [],
   "source": [
    "both = f'{left}_{right}'\n",
    "img = './' + str(next(Path('../src/pyameslib/').glob(f'./{both}/results_map_ba/dem/{both}_ba_*-DEM-hillshade.tif')))\n",
    "out = img.replace('.tif', '.png')"
   ]
  },
  {
   "cell_type": "code",
   "execution_count": null,
   "metadata": {
    "pycharm": {
     "name": "#%%\n"
    }
   },
   "outputs": [],
   "source": [
    "!gdal_translate -of PNG -co worldfile=yes {img} {out}"
   ]
  },
  {
   "cell_type": "code",
   "execution_count": null,
   "metadata": {
    "pycharm": {
     "name": "#%%\n"
    }
   },
   "outputs": [],
   "source": [
    "Image(filename=out, width=600)"
   ]
  },
  {
   "cell_type": "markdown",
   "metadata": {
    "collapsed": false,
    "jupyter": {
     "outputs_hidden": false
    },
    "pycharm": {
     "name": "#%% md\n"
    }
   },
   "source": "## Show pedr data"
  },
  {
   "metadata": {},
   "cell_type": "markdown",
   "source": "One additional bit here, for the MOLA data, show the PEDR2TAB template if created and the amount of PEDR data we have to align to. If the final line is less than a few hundred we could be in a bad situation."
  },
  {
   "cell_type": "code",
   "execution_count": null,
   "metadata": {
    "pycharm": {
     "name": "#%%\n"
    }
   },
   "outputs": [],
   "source": [
    "!cat ./{left}_{right}/PEDR2TAB.PRM"
   ]
  },
  {
   "cell_type": "code",
   "execution_count": null,
   "metadata": {
    "pycharm": {
     "name": "#%%\n"
    }
   },
   "outputs": [],
   "source": "!cat ./{left}_{right}/{left}_{right}_pedr4align.csv | wc -l"
  },
  {
   "metadata": {},
   "cell_type": "markdown",
   "source": [
    "Now that we have finished the first half of the workflow we can inspect the output products for issues before moving forwards. If there are issues noted in the log or after a particular step, that step can be re-run with different parameters until a good solution is found.\n",
    "\n",
    "At this point, we have a completed DEM! However, it’s absolute position in space maybe off from the correct position. Therefore, we must now perform a point cloud alignment to align our DEM with reference topography, in this case MOLA PEDR data to correct the position of the CTX DEM. In older versions of ASAP, this point is the dividing line between the make_dem and align_dem pipelines.\n",
    "\n",
    "The “maxdisp” parameter in particular deserves attention. It is the number passed to pc_align's –max-displacement parameter in the Ames Stereo Pipeline. Basically, it is the value of the distance you expect to move the CTX DEM to become aligned to your reference DEM (in this case, the PEDR data). It is generally worth estimating this number using a GIS to sample points in both the DEM and reference file, and seeing how far away they are from each other. But, CTX can be well-behaved with ASP, so we pick a default of 500 meters which can be large enough for many situations."
   ]
  },
  {
   "cell_type": "markdown",
   "metadata": {
    "collapsed": false,
    "jupyter": {
     "outputs_hidden": false
    },
    "pycharm": {
     "name": "#%% md\n"
    }
   },
   "source": "# 12. Start of PC align portion"
  },
  {
   "metadata": {},
   "cell_type": "markdown",
   "source": [
    "### Align the DEM to MOLA\n",
    "\n",
    "This is the most important step in the 2nd half of the workflow as all the remaining steps are just producing final science products and visuals for the logs. This step runs pc_align using the provided max displacement (aka disparity). If the logs indicate a larger displacement was observed than the user provided value it will need to be re-run using larger values or with other advanced parameters. If users see issues it is generally easyier to re-run the pipeline at this step repeatedly in the command line or inside the Jupyter notebook.\n",
    "\n",
    "`!asap ctx step_13 --maxd {max_disp} --refdem {refdem} {asap.kwarg_parse(step_kwargs, 'step_13')} 2>&1 | tee -i -a ./8_pc_align.log ./full_log.log`\n"
   ]
  },
  {
   "metadata": {},
   "cell_type": "code",
   "outputs": [],
   "execution_count": null,
   "source": "pass"
  },
  {
   "metadata": {},
   "cell_type": "markdown",
   "source": [
    "### Make the final CTX DEM\n",
    "\n",
    "After the previous step everything after is simple and easy as we now have a final aligned point cloud from which DEMs and ortho images can be made. That is all the rest of the steps do, they generate final DEMs with the geoid adjustment to produce science ready DEMs and ortho images for mapping.\n",
    "\n",
    "`!asap ctx step_14 --mpp {demgsd}  2>&1 | tee -i -a ./9_dems_orthos.log ./full_log.log`"
   ]
  },
  {
   "metadata": {},
   "cell_type": "code",
   "outputs": [],
   "execution_count": null,
   "source": "pass"
  },
  {
   "metadata": {},
   "cell_type": "markdown",
   "source": [
    "### Adjust final CTX DEM to Geoid (Areoid)\n",
    "\n",
    "`!asap ctx step_15 2>&1 | tee -i -a ./10_geoid_adjustment.log  ./full_log.log`\n"
   ]
  },
  {
   "metadata": {},
   "cell_type": "code",
   "outputs": [],
   "execution_count": null,
   "source": "pass"
  },
  {
   "metadata": {},
   "cell_type": "markdown",
   "source": [
    "### Make the final CTX Hillshade and Orthos\n",
    "\n",
    "`!asap ctx step_8 --folder results_map_ba --output_folder dem_align 2>&1 | tee -i -a ./11_hillshade.log ./full_log.log`"
   ]
  },
  {
   "metadata": {},
   "cell_type": "code",
   "outputs": [],
   "execution_count": null,
   "source": "pass"
  },
  {
   "cell_type": "code",
   "execution_count": null,
   "metadata": {
    "collapsed": false,
    "jupyter": {
     "outputs_hidden": false
    },
    "pycharm": {
     "name": "#%%\n"
    }
   },
   "outputs": [],
   "source": [
    "img = './' + str(next(Path('../src/pyameslib/').glob('./*/results_map_ba/dem_align/*-hillshade.tif')))\n",
    "out = img.replace('.tif', '.png')"
   ]
  },
  {
   "cell_type": "code",
   "execution_count": null,
   "metadata": {
    "collapsed": false,
    "jupyter": {
     "outputs_hidden": false
    },
    "pycharm": {
     "name": "#%%\n"
    }
   },
   "outputs": [],
   "source": [
    "!gdal_translate -of PNG -co worldfile=yes {img} {out}"
   ]
  },
  {
   "cell_type": "code",
   "execution_count": null,
   "metadata": {
    "collapsed": false,
    "jupyter": {
     "outputs_hidden": false
    },
    "pycharm": {
     "name": "#%%\n"
    }
   },
   "outputs": [],
   "source": [
    "Image(filename=out, width=800)"
   ]
  },
  {
   "metadata": {},
   "cell_type": "markdown",
   "source": "`!asap ctx step_14 --mpp {img_gsd} --just_ortho True  2>&1 | tee -i -a ./12_img_full_ortho.log ./full_log.log`\n"
  },
  {
   "metadata": {},
   "cell_type": "code",
   "outputs": [],
   "execution_count": null,
   "source": "pass"
  }
 ],
 "metadata": {
  "celltoolbar": "Tags",
  "kernelspec": {
   "display_name": "Python 3 (ipykernel)",
   "language": "python",
   "name": "python3"
  },
  "language_info": {
   "codemirror_mode": {
    "name": "ipython",
    "version": 3
   },
   "file_extension": ".py",
   "mimetype": "text/x-python",
   "name": "python",
   "nbconvert_exporter": "python",
   "pygments_lexer": "ipython3",
   "version": "3.11.6"
  }
 },
 "nbformat": 4,
 "nbformat_minor": 4
}
